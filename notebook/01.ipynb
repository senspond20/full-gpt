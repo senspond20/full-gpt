{
 "cells": [
  {
   "cell_type": "code",
   "execution_count": 1,
   "metadata": {},
   "outputs": [],
   "source": [
    "from langchain.llms import OpenAI\n",
    "from langchain.chat_models import ChatOpenAI\n"
   ]
  },
  {
   "cell_type": "code",
   "execution_count": 30,
   "metadata": {},
   "outputs": [
    {
     "data": {
      "text/plain": [
       "True"
      ]
     },
     "execution_count": 30,
     "metadata": {},
     "output_type": "execute_result"
    }
   ],
   "source": [
    "\"\"\" OPENAI_API_KEY \"\"\"\n",
    "# .env 파일에서 가져옴\n",
    "from dotenv import load_dotenv\n",
    "load_dotenv()\n",
    "\n",
    "# > 환경변수 값 직접 내보내는 방법\n",
    "# %env OPENAI_API_KEY=''"
   ]
  },
  {
   "cell_type": "code",
   "execution_count": 31,
   "metadata": {},
   "outputs": [],
   "source": [
    "from langchain.llms import OpenAI\n",
    "from langchain.chat_models import ChatOpenAI\n",
    "\n",
    "llm = OpenAI()\n",
    "chat = ChatOpenAI()\n",
    "\n"
   ]
  },
  {
   "cell_type": "markdown",
   "metadata": {},
   "source": [
    "# Predict Message"
   ]
  },
  {
   "cell_type": "code",
   "execution_count": 23,
   "metadata": {},
   "outputs": [
    {
     "data": {
      "text/plain": [
       "'\\n\\n서울에서 부산까지의 거리는 약 400km 정도입니다.'"
      ]
     },
     "execution_count": 23,
     "metadata": {},
     "output_type": "execute_result"
    }
   ],
   "source": [
    "# gpt 3 text davichi\n",
    "llm.predict(\"서울에서 부산까지 거리를 알려줘\")\n"
   ]
  },
  {
   "cell_type": "code",
   "execution_count": 32,
   "metadata": {},
   "outputs": [
    {
     "data": {
      "text/plain": [
       "'서울에서 부산까지는 약 325km 입니다.'"
      ]
     },
     "execution_count": 32,
     "metadata": {},
     "output_type": "execute_result"
    }
   ],
   "source": [
    "# gpt 3.5 turbo\n",
    "chat.predict(\"서울에서 부산까지 거리를 알려줘\")"
   ]
  },
  {
   "cell_type": "code",
   "execution_count": 36,
   "metadata": {},
   "outputs": [
    {
     "data": {
      "text/plain": [
       "AIMessage(content='The distance between {country_a} and Busan depends on which country you are referring to. Could you please specify the country? \\n\\nAs for my name, I am an AI language model developed by OpenAI, and I am known as GPT-3.')"
      ]
     },
     "execution_count": 36,
     "metadata": {},
     "output_type": "execute_result"
    }
   ],
   "source": [
    "\n",
    "from langchain.chat_models import ChatOpenAI\n",
    "from langchain.schema import SystemMessage, AIMessage, HumanMessage\n",
    "\n",
    "chat = ChatOpenAI(\n",
    "  temperature=0.1  \n",
    ")\n",
    "messages = [\n",
    "    SystemMessage(\n",
    "        content = \"You are grahpiy expert. And You reply in English.\"\n",
    "    ),\n",
    "    AIMessage(\n",
    "        content = \"Chio, my Chio gun\"\n",
    "    ),\n",
    "    HumanMessage(\n",
    "        content = \"What is distance between Seoul and Busan. Also What your name ?\"\n",
    "    )\n",
    "]\n",
    "\n",
    "chat.predict_messages(messages)\n"
   ]
  },
  {
   "cell_type": "markdown",
   "metadata": {},
   "source": [
    "# Prompt Templates"
   ]
  },
  {
   "cell_type": "code",
   "execution_count": 43,
   "metadata": {},
   "outputs": [
    {
     "name": "stdout",
     "output_type": "stream",
     "text": [
      "What is distance between Busan and Seoul ? \n",
      "The distance between Busan and Seoul is approximately 325 kilometers (202 miles).\n"
     ]
    }
   ],
   "source": [
    "from langchain.chat_models import ChatOpenAI\n",
    "from langchain.schema import SystemMessage, AIMessage, HumanMessage\n",
    "from langchain.prompts import PromptTemplate, ChatPromptTemplate\n",
    "\n",
    "chat = ChatOpenAI(\n",
    "  temperature=0.1  \n",
    ")\n",
    "template = PromptTemplate.from_template(\"What is distance between {contry_a} and {contry_b} ? \")\n",
    "prompt = template.format(contry_a = \"Busan\", contry_b = \"Seoul\")\n",
    "\n",
    "print(prompt)\n",
    "\n",
    "response = chat.predict(prompt)\n",
    "print(response)\n",
    "\n",
    "#chat.predict_messages(messages)\n",
    "\n",
    "\n",
    "\n",
    "# Prompt Templates"
   ]
  },
  {
   "cell_type": "code",
   "execution_count": 68,
   "metadata": {},
   "outputs": [
    {
     "name": "stdout",
     "output_type": "stream",
     "text": [
      "[SystemMessage(content='You are grahpiy expert. And You reply in korean. 만약 이름을 묻는다면 디스턴스 봇이라고만 말해줘.'), AIMessage(content='Ciao, mi chiamo gun'), HumanMessage(content='What is distance between Seoul and Busan. Also What your name ?')]\n",
      "content='안녕하세요! 저는 디스턴스 봇이라고 합니다. 서울과 부산 사이의 거리는 약 325 킬로미터입니다. 저의 이름은 디스턴스 봇이라고 하니 참고해주세요! 어떤 도움이 필요하신가요?'\n"
     ]
    }
   ],
   "source": [
    "chat = ChatOpenAI(\n",
    "  temperature=0.1  \n",
    ")\n",
    "template = ChatPromptTemplate.from_messages([\n",
    "    (\"system\", \"You are grahpiy expert. And You reply in {language}. 만약 이름을 묻는다면 디스턴스 봇이라고만 말해줘.\"),\n",
    "    (\"ai\",\"Ciao, mi chiamo {name}\"),\n",
    "    (\"human\", \"What is distance between {contry_a} and {contry_b}. Also What your name ?\")\n",
    "])\n",
    "\n",
    "prompt = template.format_messages(\n",
    "    language = \"korean\",\n",
    "    name = \"gun\",\n",
    "    contry_a=\"Seoul\",\n",
    "    contry_b=\"Busan\"\n",
    ")\n",
    "\n",
    "print(prompt)\n",
    "\n",
    "response = chat.predict_messages(prompt)\n",
    "\n",
    "print(response)\n"
   ]
  },
  {
   "cell_type": "markdown",
   "metadata": {},
   "source": [
    "# Output Parser\n"
   ]
  },
  {
   "cell_type": "code",
   "execution_count": null,
   "metadata": {},
   "outputs": [],
   "source": [
    "from langchain.schema import BaseOutputParser\n",
    "\n",
    "class CommaOutputParser(BaseOutputParser):\n",
    "    pass\n"
   ]
  }
 ],
 "metadata": {
  "kernelspec": {
   "display_name": "full-gpt",
   "language": "python",
   "name": "python3"
  },
  "language_info": {
   "codemirror_mode": {
    "name": "ipython",
    "version": 3
   },
   "file_extension": ".py",
   "mimetype": "text/x-python",
   "name": "python",
   "nbconvert_exporter": "python",
   "pygments_lexer": "ipython3",
   "version": "3.10.13"
  }
 },
 "nbformat": 4,
 "nbformat_minor": 2
}
