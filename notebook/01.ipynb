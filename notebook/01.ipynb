{
 "cells": [
  {
   "cell_type": "code",
   "execution_count": 1,
   "metadata": {},
   "outputs": [
    {
     "data": {
      "text/plain": [
       "True"
      ]
     },
     "execution_count": 1,
     "metadata": {},
     "output_type": "execute_result"
    }
   ],
   "source": [
    "\"\"\" OPENAI_API_KEY \"\"\"\n",
    "# .env 파일에서 가져옴\n",
    "from dotenv import load_dotenv\n",
    "load_dotenv()\n",
    "\n",
    "# https://revf.tistory.com/280\n",
    "\n",
    "# > 환경변수 값 직접 내보내는 방법\n",
    "# %env OPENAI_API_KEY=''"
   ]
  },
  {
   "cell_type": "markdown",
   "metadata": {},
   "source": [
    "# OpenAI Models load"
   ]
  },
  {
   "cell_type": "code",
   "execution_count": 11,
   "metadata": {},
   "outputs": [],
   "source": [
    "from langchain.llms import OpenAI\n",
    "from langchain.chat_models import ChatOpenAI\n",
    "\n",
    "llm = OpenAI()\n",
    "chat = ChatOpenAI()\n",
    "\n"
   ]
  },
  {
   "cell_type": "code",
   "execution_count": 23,
   "metadata": {},
   "outputs": [
    {
     "data": {
      "text/plain": [
       "'\\n\\n서울에서 부산까지의 거리는 약 406km입니다.'"
      ]
     },
     "execution_count": 23,
     "metadata": {},
     "output_type": "execute_result"
    }
   ],
   "source": [
    "llm2 = OpenAI(model='text-davinci-003')\n",
    "\n",
    "llm2.predict(\"서울에서 부산까지 거리를 알려줘\")"
   ]
  },
  {
   "cell_type": "markdown",
   "metadata": {},
   "source": [
    "# Predict Message"
   ]
  },
  {
   "cell_type": "code",
   "execution_count": 24,
   "metadata": {},
   "outputs": [
    {
     "data": {
      "text/plain": [
       "'\\n\\n부산까지의 직선 거리는 약 400km 입니다.'"
      ]
     },
     "execution_count": 24,
     "metadata": {},
     "output_type": "execute_result"
    }
   ],
   "source": [
    "# text-davinci-003\n",
    "llm.predict(\"서울에서 부산까지 거리를 알려줘\")"
   ]
  },
  {
   "cell_type": "code",
   "execution_count": 25,
   "metadata": {},
   "outputs": [
    {
     "data": {
      "text/plain": [
       "'서울에서 부산까지의 거리는 약 325km입니다.'"
      ]
     },
     "execution_count": 25,
     "metadata": {},
     "output_type": "execute_result"
    }
   ],
   "source": [
    "# gpt 3.5 turbo\n",
    "chat.predict(\"서울에서 부산까지 거리를 알려줘\")"
   ]
  },
  {
   "cell_type": "code",
   "execution_count": 32,
   "metadata": {},
   "outputs": [
    {
     "data": {
      "text/plain": [
       "AIMessage(content='서울과 부산 사이의 거리는 대략 325km입니다. 제 이름은 AI 입니다.')"
      ]
     },
     "execution_count": 32,
     "metadata": {},
     "output_type": "execute_result"
    }
   ],
   "source": [
    "\n",
    "from langchain.chat_models import ChatOpenAI\n",
    "from langchain.schema import SystemMessage, AIMessage, HumanMessage\n",
    "\n",
    "chat = ChatOpenAI(\n",
    "#   model=\"gpt-4\",\n",
    "  temperature=0.9\n",
    ")\n",
    "messages = [\n",
    "    SystemMessage(\n",
    "        content = \"You are grahpiy expert. And You reply in Korean.\"\n",
    "    ),\n",
    "    HumanMessage(\n",
    "        content = \"What is distance between Seoul and Busan. Also What your name ?\"\n",
    "    )\n",
    "]\n",
    "\n",
    "chat.predict_messages(messages)\n"
   ]
  },
  {
   "cell_type": "code",
   "execution_count": 29,
   "metadata": {},
   "outputs": [
    {
     "data": {
      "text/plain": [
       "AIMessage(content='토마토를 이용하여 맛있는 파스타를 만들어 보세요. 예를 들어, 토마토 소스 파스타나 치킨 알프레도 파스타 등 다양한 방법으로 토마토를 활용할 수 있습니다.')"
      ]
     },
     "execution_count": 29,
     "metadata": {},
     "output_type": "execute_result"
    }
   ],
   "source": [
    "from langchain.chat_models import ChatOpenAI\n",
    "from langchain.schema import HumanMessage, SystemMessage, AIMessage\n",
    "\n",
    "chat = ChatOpenAI(temperature=.7)\n",
    "chat(\n",
    "  [  \n",
    "    SystemMessage(content=\"당신은 사용자가 짧은 문장으로 무엇을 먹을지 알아낼 수 있도록 도와주는 멋진 AI 봇입니다.\"),\n",
    "    HumanMessage(content=\"토마토 좋아하는데, 뭘 먹어야 하나요??\"),\n",
    "    AIMessage(content='신선한 바질과 모짜렐라 치즈를 곁들인 토마토 샐러드를 만들어 보세요.')\n",
    "  ]\n",
    ")\n",
    "\n"
   ]
  },
  {
   "cell_type": "markdown",
   "metadata": {},
   "source": [
    "# Prompt Templates\n",
    "\n",
    "> 반복되는 프롬프트 양식을 템플릿으로 만들어 변수값만 변경해줌으로써 프롬프트 재사용성을 용이하게 만들 수 있다"
   ]
  },
  {
   "cell_type": "code",
   "execution_count": 14,
   "metadata": {},
   "outputs": [
    {
     "name": "stdout",
     "output_type": "stream",
     "text": [
      "What is distance between Busan and Seoul ? \n",
      "The distance between Busan and Seoul is approximately 325 kilometers (202 miles).\n"
     ]
    }
   ],
   "source": [
    "from langchain.chat_models import ChatOpenAI\n",
    "from langchain.prompts import PromptTemplate, ChatPromptTemplate\n",
    "\n",
    "chat = ChatOpenAI(\n",
    "  temperature=0.1  \n",
    ")\n",
    "template = PromptTemplate.from_template(\"What is distance between {contry_a} and {contry_b} ? \")\n",
    "prompt = template.format(contry_a = \"Busan\", contry_b = \"Seoul\")\n",
    "\n",
    "print(prompt)\n",
    "\n",
    "response = chat.predict(prompt)\n",
    "print(response)\n",
    "\n",
    "#chat.predict_messages(messages)\n",
    "# Prompt Templates"
   ]
  },
  {
   "cell_type": "code",
   "execution_count": 17,
   "metadata": {},
   "outputs": [
    {
     "name": "stdout",
     "output_type": "stream",
     "text": [
      "[SystemMessage(content='You are grahpiy expert. And You reply in korean. If ask for a name, tell me rgbitcode bot'), HumanMessage(content='What is distance between Seoul and Busan. Also What your name ?')]\n",
      "content='서울과 부산 사이의 거리는 약 325 킬로미터입니다. 제 이름은 rgbitcode bot입니다. 무엇을 도와드릴까요?'\n"
     ]
    }
   ],
   "source": [
    "chat = ChatOpenAI(\n",
    "  temperature=0.1  \n",
    ")\n",
    "template = ChatPromptTemplate.from_messages([\n",
    "    (\"system\", \"You are grahpiy expert. And You reply in {language}. If ask for a name, tell me rgbitcode bot\"),\n",
    "    (\"ai\",\"Ciao, mi chiamo {name}\"),\n",
    "    (\"human\", \"What is distance between {contry_a} and {contry_b}. Also What your name ?\")\n",
    "])\n",
    "\n",
    "prompt = template.format_messages(\n",
    "    language = \"korean\",\n",
    "    name = \"gun\",\n",
    "    contry_a=\"Seoul\",\n",
    "    contry_b=\"Busan\"\n",
    ")\n",
    "\n",
    "print(prompt)\n",
    "\n",
    "response = chat.predict_messages(prompt)\n",
    "\n",
    "print(response)\n"
   ]
  },
  {
   "cell_type": "code",
   "execution_count": null,
   "metadata": {},
   "outputs": [],
   "source": []
  }
 ],
 "metadata": {
  "kernelspec": {
   "display_name": "full-gpt",
   "language": "python",
   "name": "python3"
  },
  "language_info": {
   "codemirror_mode": {
    "name": "ipython",
    "version": 3
   },
   "file_extension": ".py",
   "mimetype": "text/x-python",
   "name": "python",
   "nbconvert_exporter": "python",
   "pygments_lexer": "ipython3",
   "version": "3.10.13"
  }
 },
 "nbformat": 4,
 "nbformat_minor": 2
}
