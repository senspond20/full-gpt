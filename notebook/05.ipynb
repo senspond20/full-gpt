{
 "cells": [
  {
   "cell_type": "markdown",
   "metadata": {},
   "source": [
    "# Chaching\n"
   ]
  },
  {
   "cell_type": "markdown",
   "metadata": {},
   "source": [
    "## InMemoryCache"
   ]
  },
  {
   "cell_type": "code",
   "execution_count": 7,
   "metadata": {},
   "outputs": [],
   "source": [
    "from dotenv import load_dotenv\n",
    "load_dotenv()\n",
    "\n",
    "from langchain.chat_models import ChatOpenAI\n",
    "from langchain.prompts import PromptTemplate, ChatPromptTemplate\n",
    "from langchain.callbacks import StreamingStdOutCallbackHandler\n",
    "\n",
    "from langchain.globals import set_llm_cache, set_debug\n",
    "from langchain.cache import InMemoryCache\n",
    "\n",
    "chat = ChatOpenAI(temperature=.1, \n",
    "                  streaming=True, \n",
    "                  callbacks=[StreamingStdOutCallbackHandler()]\n",
    ")\n",
    "\n",
    "set_llm_cache(InMemoryCache())\n",
    "set_debug(True)\n"
   ]
  },
  {
   "cell_type": "code",
   "execution_count": 8,
   "metadata": {},
   "outputs": [
    {
     "name": "stdout",
     "output_type": "stream",
     "text": [
      "\u001b[32;1m\u001b[1;3m[llm/start]\u001b[0m \u001b[1m[1:llm:ChatOpenAI] Entering LLM run with input:\n",
      "\u001b[0m{\n",
      "  \"prompts\": [\n",
      "    \"Human: How do you make italian pasta\"\n",
      "  ]\n",
      "}\n",
      "To make Italian pasta, you will need the following ingredients:\n",
      "\n",
      "- 2 cups of all-purpose flour\n",
      "- 2 large eggs\n",
      "- 1/2 teaspoon of salt\n",
      "- Water (if needed)\n",
      "\n",
      "Here's a step-by-step guide to making Italian pasta:\n",
      "\n",
      "1. On a clean surface or in a large mixing bowl, pour the flour and create a well in the center.\n",
      "2. Crack the eggs into the well and add the salt.\n",
      "3. Using a fork or your fingers, gradually mix the eggs and salt into the flour, incorporating a little at a time.\n",
      "4. Once the dough starts to come together, knead it with your hands until it forms a smooth and elastic ball. If the dough feels too dry, you can add a little water, teaspoon by teaspoon, until it reaches the desired consistency. If it's too sticky, add a little more flour.\n",
      "5. Once the dough is formed, cover it with a clean kitchen towel or plastic wrap and let it rest for about 30 minutes. This will allow the gluten to relax and make the dough easier to work with.\n",
      "6. After resting, divide the dough into smaller portions. Take one portion and flatten it with your hands or a rolling pin until it's about 1/4 inch thick.\n",
      "7. If you have a pasta machine, pass the dough through the machine, starting with the widest setting and gradually reducing the thickness until you reach the desired thickness for your pasta. If you don't have a pasta machine, you can use a rolling pin to roll out the dough as thin as possible.\n",
      "8. Once the dough is rolled out, you can cut it into your desired pasta shape. For example, you can cut it into thin strips for spaghetti or fettuccine, or use a pasta cutter to create shapes like farfalle (bowtie) or ravioli.\n",
      "9. As you cut the pasta, dust it with flour to prevent sticking. You can also hang the pasta on a drying rack or lay it flat on a clean surface until you're ready to cook it.\n",
      "10. To cook the pasta, bring a large pot of salted water to a boil. Add the pasta and cook until al dente, which means it's cooked but still slightly firm to the bite. The cooking time will vary depending on the thickness and shape of the pasta, so it's best to taste it as it cooks.\n",
      "11. Once the pasta is cooked, drain it and serve it with your favorite sauce or toppings.\n",
      "\n",
      "Enjoy your homemade Italian pasta!\u001b[36;1m\u001b[1;3m[llm/end]\u001b[0m \u001b[1m[1:llm:ChatOpenAI] [10.28s] Exiting LLM run with output:\n",
      "\u001b[0m{\n",
      "  \"generations\": [\n",
      "    [\n",
      "      {\n",
      "        \"text\": \"To make Italian pasta, you will need the following ingredients:\\n\\n- 2 cups of all-purpose flour\\n- 2 large eggs\\n- 1/2 teaspoon of salt\\n- Water (if needed)\\n\\nHere's a step-by-step guide to making Italian pasta:\\n\\n1. On a clean surface or in a large mixing bowl, pour the flour and create a well in the center.\\n2. Crack the eggs into the well and add the salt.\\n3. Using a fork or your fingers, gradually mix the eggs and salt into the flour, incorporating a little at a time.\\n4. Once the dough starts to come together, knead it with your hands until it forms a smooth and elastic ball. If the dough feels too dry, you can add a little water, teaspoon by teaspoon, until it reaches the desired consistency. If it's too sticky, add a little more flour.\\n5. Once the dough is formed, cover it with a clean kitchen towel or plastic wrap and let it rest for about 30 minutes. This will allow the gluten to relax and make the dough easier to work with.\\n6. After resting, divide the dough into smaller portions. Take one portion and flatten it with your hands or a rolling pin until it's about 1/4 inch thick.\\n7. If you have a pasta machine, pass the dough through the machine, starting with the widest setting and gradually reducing the thickness until you reach the desired thickness for your pasta. If you don't have a pasta machine, you can use a rolling pin to roll out the dough as thin as possible.\\n8. Once the dough is rolled out, you can cut it into your desired pasta shape. For example, you can cut it into thin strips for spaghetti or fettuccine, or use a pasta cutter to create shapes like farfalle (bowtie) or ravioli.\\n9. As you cut the pasta, dust it with flour to prevent sticking. You can also hang the pasta on a drying rack or lay it flat on a clean surface until you're ready to cook it.\\n10. To cook the pasta, bring a large pot of salted water to a boil. Add the pasta and cook until al dente, which means it's cooked but still slightly firm to the bite. The cooking time will vary depending on the thickness and shape of the pasta, so it's best to taste it as it cooks.\\n11. Once the pasta is cooked, drain it and serve it with your favorite sauce or toppings.\\n\\nEnjoy your homemade Italian pasta!\",\n",
      "        \"generation_info\": {\n",
      "          \"finish_reason\": \"stop\"\n",
      "        },\n",
      "        \"type\": \"ChatGenerationChunk\",\n",
      "        \"message\": {\n",
      "          \"lc\": 1,\n",
      "          \"type\": \"constructor\",\n",
      "          \"id\": [\n",
      "            \"langchain\",\n",
      "            \"schema\",\n",
      "            \"messages\",\n",
      "            \"AIMessageChunk\"\n",
      "          ],\n",
      "          \"kwargs\": {\n",
      "            \"example\": false,\n",
      "            \"content\": \"To make Italian pasta, you will need the following ingredients:\\n\\n- 2 cups of all-purpose flour\\n- 2 large eggs\\n- 1/2 teaspoon of salt\\n- Water (if needed)\\n\\nHere's a step-by-step guide to making Italian pasta:\\n\\n1. On a clean surface or in a large mixing bowl, pour the flour and create a well in the center.\\n2. Crack the eggs into the well and add the salt.\\n3. Using a fork or your fingers, gradually mix the eggs and salt into the flour, incorporating a little at a time.\\n4. Once the dough starts to come together, knead it with your hands until it forms a smooth and elastic ball. If the dough feels too dry, you can add a little water, teaspoon by teaspoon, until it reaches the desired consistency. If it's too sticky, add a little more flour.\\n5. Once the dough is formed, cover it with a clean kitchen towel or plastic wrap and let it rest for about 30 minutes. This will allow the gluten to relax and make the dough easier to work with.\\n6. After resting, divide the dough into smaller portions. Take one portion and flatten it with your hands or a rolling pin until it's about 1/4 inch thick.\\n7. If you have a pasta machine, pass the dough through the machine, starting with the widest setting and gradually reducing the thickness until you reach the desired thickness for your pasta. If you don't have a pasta machine, you can use a rolling pin to roll out the dough as thin as possible.\\n8. Once the dough is rolled out, you can cut it into your desired pasta shape. For example, you can cut it into thin strips for spaghetti or fettuccine, or use a pasta cutter to create shapes like farfalle (bowtie) or ravioli.\\n9. As you cut the pasta, dust it with flour to prevent sticking. You can also hang the pasta on a drying rack or lay it flat on a clean surface until you're ready to cook it.\\n10. To cook the pasta, bring a large pot of salted water to a boil. Add the pasta and cook until al dente, which means it's cooked but still slightly firm to the bite. The cooking time will vary depending on the thickness and shape of the pasta, so it's best to taste it as it cooks.\\n11. Once the pasta is cooked, drain it and serve it with your favorite sauce or toppings.\\n\\nEnjoy your homemade Italian pasta!\",\n",
      "            \"additional_kwargs\": {}\n",
      "          }\n",
      "        }\n",
      "      }\n",
      "    ]\n",
      "  ],\n",
      "  \"llm_output\": null,\n",
      "  \"run\": null\n",
      "}\n"
     ]
    },
    {
     "data": {
      "text/plain": [
       "\"To make Italian pasta, you will need the following ingredients:\\n\\n- 2 cups of all-purpose flour\\n- 2 large eggs\\n- 1/2 teaspoon of salt\\n- Water (if needed)\\n\\nHere's a step-by-step guide to making Italian pasta:\\n\\n1. On a clean surface or in a large mixing bowl, pour the flour and create a well in the center.\\n2. Crack the eggs into the well and add the salt.\\n3. Using a fork or your fingers, gradually mix the eggs and salt into the flour, incorporating a little at a time.\\n4. Once the dough starts to come together, knead it with your hands until it forms a smooth and elastic ball. If the dough feels too dry, you can add a little water, teaspoon by teaspoon, until it reaches the desired consistency. If it's too sticky, add a little more flour.\\n5. Once the dough is formed, cover it with a clean kitchen towel or plastic wrap and let it rest for about 30 minutes. This will allow the gluten to relax and make the dough easier to work with.\\n6. After resting, divide the dough into smaller portions. Take one portion and flatten it with your hands or a rolling pin until it's about 1/4 inch thick.\\n7. If you have a pasta machine, pass the dough through the machine, starting with the widest setting and gradually reducing the thickness until you reach the desired thickness for your pasta. If you don't have a pasta machine, you can use a rolling pin to roll out the dough as thin as possible.\\n8. Once the dough is rolled out, you can cut it into your desired pasta shape. For example, you can cut it into thin strips for spaghetti or fettuccine, or use a pasta cutter to create shapes like farfalle (bowtie) or ravioli.\\n9. As you cut the pasta, dust it with flour to prevent sticking. You can also hang the pasta on a drying rack or lay it flat on a clean surface until you're ready to cook it.\\n10. To cook the pasta, bring a large pot of salted water to a boil. Add the pasta and cook until al dente, which means it's cooked but still slightly firm to the bite. The cooking time will vary depending on the thickness and shape of the pasta, so it's best to taste it as it cooks.\\n11. Once the pasta is cooked, drain it and serve it with your favorite sauce or toppings.\\n\\nEnjoy your homemade Italian pasta!\""
      ]
     },
     "execution_count": 8,
     "metadata": {},
     "output_type": "execute_result"
    }
   ],
   "source": [
    "chat.predict(\"How do you make italian pasta\")\n"
   ]
  },
  {
   "cell_type": "code",
   "execution_count": 9,
   "metadata": {},
   "outputs": [
    {
     "name": "stdout",
     "output_type": "stream",
     "text": [
      "\u001b[32;1m\u001b[1;3m[llm/start]\u001b[0m \u001b[1m[1:llm:ChatOpenAI] Entering LLM run with input:\n",
      "\u001b[0m{\n",
      "  \"prompts\": [\n",
      "    \"Human: How do you make italian pasta\"\n",
      "  ]\n",
      "}\n",
      "\u001b[36;1m\u001b[1;3m[llm/end]\u001b[0m \u001b[1m[1:llm:ChatOpenAI] [0ms] Exiting LLM run with output:\n",
      "\u001b[0m{\n",
      "  \"generations\": [\n",
      "    [\n",
      "      {\n",
      "        \"text\": \"To make Italian pasta, you will need the following ingredients:\\n\\n- 2 cups of all-purpose flour\\n- 2 large eggs\\n- 1/2 teaspoon of salt\\n- Water (if needed)\\n\\nHere's a step-by-step guide to making Italian pasta:\\n\\n1. On a clean surface or in a large mixing bowl, pour the flour and create a well in the center.\\n2. Crack the eggs into the well and add the salt.\\n3. Using a fork or your fingers, gradually mix the eggs and salt into the flour, incorporating a little at a time.\\n4. Once the dough starts to come together, knead it with your hands until it forms a smooth and elastic ball. If the dough feels too dry, you can add a little water, teaspoon by teaspoon, until it reaches the desired consistency. If it's too sticky, add a little more flour.\\n5. Once the dough is formed, cover it with a clean kitchen towel or plastic wrap and let it rest for about 30 minutes. This will allow the gluten to relax and make the dough easier to work with.\\n6. After resting, divide the dough into smaller portions. Take one portion and flatten it with your hands or a rolling pin until it's about 1/4 inch thick.\\n7. If you have a pasta machine, pass the dough through the machine, starting with the widest setting and gradually reducing the thickness until you reach the desired thickness for your pasta. If you don't have a pasta machine, you can use a rolling pin to roll out the dough as thin as possible.\\n8. Once the dough is rolled out, you can cut it into your desired pasta shape. For example, you can cut it into thin strips for spaghetti or fettuccine, or use a pasta cutter to create shapes like farfalle (bowtie) or ravioli.\\n9. As you cut the pasta, dust it with flour to prevent sticking. You can also hang the pasta on a drying rack or lay it flat on a clean surface until you're ready to cook it.\\n10. To cook the pasta, bring a large pot of salted water to a boil. Add the pasta and cook until al dente, which means it's cooked but still slightly firm to the bite. The cooking time will vary depending on the thickness and shape of the pasta, so it's best to taste it as it cooks.\\n11. Once the pasta is cooked, drain it and serve it with your favorite sauce or toppings.\\n\\nEnjoy your homemade Italian pasta!\",\n",
      "        \"generation_info\": {\n",
      "          \"finish_reason\": \"stop\"\n",
      "        },\n",
      "        \"type\": \"ChatGenerationChunk\",\n",
      "        \"message\": {\n",
      "          \"lc\": 1,\n",
      "          \"type\": \"constructor\",\n",
      "          \"id\": [\n",
      "            \"langchain\",\n",
      "            \"schema\",\n",
      "            \"messages\",\n",
      "            \"AIMessageChunk\"\n",
      "          ],\n",
      "          \"kwargs\": {\n",
      "            \"example\": false,\n",
      "            \"content\": \"To make Italian pasta, you will need the following ingredients:\\n\\n- 2 cups of all-purpose flour\\n- 2 large eggs\\n- 1/2 teaspoon of salt\\n- Water (if needed)\\n\\nHere's a step-by-step guide to making Italian pasta:\\n\\n1. On a clean surface or in a large mixing bowl, pour the flour and create a well in the center.\\n2. Crack the eggs into the well and add the salt.\\n3. Using a fork or your fingers, gradually mix the eggs and salt into the flour, incorporating a little at a time.\\n4. Once the dough starts to come together, knead it with your hands until it forms a smooth and elastic ball. If the dough feels too dry, you can add a little water, teaspoon by teaspoon, until it reaches the desired consistency. If it's too sticky, add a little more flour.\\n5. Once the dough is formed, cover it with a clean kitchen towel or plastic wrap and let it rest for about 30 minutes. This will allow the gluten to relax and make the dough easier to work with.\\n6. After resting, divide the dough into smaller portions. Take one portion and flatten it with your hands or a rolling pin until it's about 1/4 inch thick.\\n7. If you have a pasta machine, pass the dough through the machine, starting with the widest setting and gradually reducing the thickness until you reach the desired thickness for your pasta. If you don't have a pasta machine, you can use a rolling pin to roll out the dough as thin as possible.\\n8. Once the dough is rolled out, you can cut it into your desired pasta shape. For example, you can cut it into thin strips for spaghetti or fettuccine, or use a pasta cutter to create shapes like farfalle (bowtie) or ravioli.\\n9. As you cut the pasta, dust it with flour to prevent sticking. You can also hang the pasta on a drying rack or lay it flat on a clean surface until you're ready to cook it.\\n10. To cook the pasta, bring a large pot of salted water to a boil. Add the pasta and cook until al dente, which means it's cooked but still slightly firm to the bite. The cooking time will vary depending on the thickness and shape of the pasta, so it's best to taste it as it cooks.\\n11. Once the pasta is cooked, drain it and serve it with your favorite sauce or toppings.\\n\\nEnjoy your homemade Italian pasta!\",\n",
      "            \"additional_kwargs\": {}\n",
      "          }\n",
      "        }\n",
      "      }\n",
      "    ]\n",
      "  ],\n",
      "  \"llm_output\": null,\n",
      "  \"run\": null\n",
      "}\n"
     ]
    },
    {
     "data": {
      "text/plain": [
       "\"To make Italian pasta, you will need the following ingredients:\\n\\n- 2 cups of all-purpose flour\\n- 2 large eggs\\n- 1/2 teaspoon of salt\\n- Water (if needed)\\n\\nHere's a step-by-step guide to making Italian pasta:\\n\\n1. On a clean surface or in a large mixing bowl, pour the flour and create a well in the center.\\n2. Crack the eggs into the well and add the salt.\\n3. Using a fork or your fingers, gradually mix the eggs and salt into the flour, incorporating a little at a time.\\n4. Once the dough starts to come together, knead it with your hands until it forms a smooth and elastic ball. If the dough feels too dry, you can add a little water, teaspoon by teaspoon, until it reaches the desired consistency. If it's too sticky, add a little more flour.\\n5. Once the dough is formed, cover it with a clean kitchen towel or plastic wrap and let it rest for about 30 minutes. This will allow the gluten to relax and make the dough easier to work with.\\n6. After resting, divide the dough into smaller portions. Take one portion and flatten it with your hands or a rolling pin until it's about 1/4 inch thick.\\n7. If you have a pasta machine, pass the dough through the machine, starting with the widest setting and gradually reducing the thickness until you reach the desired thickness for your pasta. If you don't have a pasta machine, you can use a rolling pin to roll out the dough as thin as possible.\\n8. Once the dough is rolled out, you can cut it into your desired pasta shape. For example, you can cut it into thin strips for spaghetti or fettuccine, or use a pasta cutter to create shapes like farfalle (bowtie) or ravioli.\\n9. As you cut the pasta, dust it with flour to prevent sticking. You can also hang the pasta on a drying rack or lay it flat on a clean surface until you're ready to cook it.\\n10. To cook the pasta, bring a large pot of salted water to a boil. Add the pasta and cook until al dente, which means it's cooked but still slightly firm to the bite. The cooking time will vary depending on the thickness and shape of the pasta, so it's best to taste it as it cooks.\\n11. Once the pasta is cooked, drain it and serve it with your favorite sauce or toppings.\\n\\nEnjoy your homemade Italian pasta!\""
      ]
     },
     "execution_count": 9,
     "metadata": {},
     "output_type": "execute_result"
    }
   ],
   "source": [
    "chat.predict(\"How do you make italian pasta\")"
   ]
  },
  {
   "cell_type": "markdown",
   "metadata": {},
   "source": [
    "## DataBaseCache"
   ]
  },
  {
   "cell_type": "code",
   "execution_count": 10,
   "metadata": {},
   "outputs": [],
   "source": [
    "from dotenv import load_dotenv\n",
    "load_dotenv()\n",
    "\n",
    "from langchain.chat_models import ChatOpenAI\n",
    "from langchain.prompts import PromptTemplate, ChatPromptTemplate\n",
    "from langchain.callbacks import StreamingStdOutCallbackHandler\n",
    "\n",
    "from langchain.globals import set_llm_cache, set_debug\n",
    "from langchain.cache import InMemoryCache, SQLiteCache\n",
    "\n",
    "chat = ChatOpenAI(temperature=.1, \n",
    "                  streaming=True, \n",
    "                  callbacks=[StreamingStdOutCallbackHandler()]\n",
    ")\n",
    "\n",
    "set_llm_cache(SQLiteCache(\"cache.db\"))\n",
    "set_debug(True)\n"
   ]
  },
  {
   "cell_type": "code",
   "execution_count": 11,
   "metadata": {},
   "outputs": [
    {
     "name": "stdout",
     "output_type": "stream",
     "text": [
      "\u001b[32;1m\u001b[1;3m[llm/start]\u001b[0m \u001b[1m[1:llm:ChatOpenAI] Entering LLM run with input:\n",
      "\u001b[0m{\n",
      "  \"prompts\": [\n",
      "    \"Human: How do you make italian pasta\"\n",
      "  ]\n",
      "}\n",
      "To make Italian pasta, you will need the following ingredients:\n",
      "\n",
      "- 2 cups of all-purpose flour\n",
      "- 2 large eggs\n",
      "- 1/2 teaspoon of salt\n",
      "- Water (if needed)\n",
      "\n",
      "Here's a step-by-step guide to making Italian pasta:\n",
      "\n",
      "1. On a clean surface or in a large mixing bowl, pour the flour and create a well in the center.\n",
      "2. Crack the eggs into the well and add the salt.\n",
      "3. Using a fork or your fingers, gradually mix the eggs and salt into the flour, incorporating a little bit at a time.\n",
      "4. Once the dough starts to come together, knead it with your hands until it forms a smooth and elastic ball. If the dough is too dry, you can add a little water, one tablespoon at a time, until it reaches the desired consistency.\n",
      "5. Once the dough is formed, cover it with a clean kitchen towel or plastic wrap and let it rest for about 30 minutes. This will allow the gluten to relax and make the dough easier to work with.\n",
      "6. After resting, divide the dough into smaller portions. Take one portion and flatten it with your hands or a rolling pin until it is about 1/4 inch thick.\n",
      "7. If you have a pasta machine, you can use it to roll out the dough to your desired thickness. Start with the widest setting and gradually decrease the thickness until you reach the desired thickness. If you don't have a pasta machine, you can continue to roll the dough with a rolling pin until it is thin enough.\n",
      "8. Once the dough is rolled out, you can cut it into your desired pasta shape. For example, you can cut it into thin strips for spaghetti or fettuccine, or you can use a pasta cutter to create shapes like farfalle (bowtie) or ravioli.\n",
      "9. As you cut the pasta, lay it out on a clean surface or hang it on a pasta drying rack to prevent it from sticking together.\n",
      "10. To cook the pasta, bring a large pot of salted water to a boil. Add the pasta and cook it until it is al dente, which means it is cooked but still slightly firm to the bite. The cooking time will vary depending on the thickness and shape of the pasta, so it's best to taste it as it cooks to determine when it's done.\n",
      "11. Once the pasta is cooked, drain it and serve it with your favorite sauce or toppings.\n",
      "\n",
      "Enjoy your homemade Italian pasta!\u001b[36;1m\u001b[1;3m[llm/end]\u001b[0m \u001b[1m[1:llm:ChatOpenAI] [9.40s] Exiting LLM run with output:\n",
      "\u001b[0m{\n",
      "  \"generations\": [\n",
      "    [\n",
      "      {\n",
      "        \"text\": \"To make Italian pasta, you will need the following ingredients:\\n\\n- 2 cups of all-purpose flour\\n- 2 large eggs\\n- 1/2 teaspoon of salt\\n- Water (if needed)\\n\\nHere's a step-by-step guide to making Italian pasta:\\n\\n1. On a clean surface or in a large mixing bowl, pour the flour and create a well in the center.\\n2. Crack the eggs into the well and add the salt.\\n3. Using a fork or your fingers, gradually mix the eggs and salt into the flour, incorporating a little bit at a time.\\n4. Once the dough starts to come together, knead it with your hands until it forms a smooth and elastic ball. If the dough is too dry, you can add a little water, one tablespoon at a time, until it reaches the desired consistency.\\n5. Once the dough is formed, cover it with a clean kitchen towel or plastic wrap and let it rest for about 30 minutes. This will allow the gluten to relax and make the dough easier to work with.\\n6. After resting, divide the dough into smaller portions. Take one portion and flatten it with your hands or a rolling pin until it is about 1/4 inch thick.\\n7. If you have a pasta machine, you can use it to roll out the dough to your desired thickness. Start with the widest setting and gradually decrease the thickness until you reach the desired thickness. If you don't have a pasta machine, you can continue to roll the dough with a rolling pin until it is thin enough.\\n8. Once the dough is rolled out, you can cut it into your desired pasta shape. For example, you can cut it into thin strips for spaghetti or fettuccine, or you can use a pasta cutter to create shapes like farfalle (bowtie) or ravioli.\\n9. As you cut the pasta, lay it out on a clean surface or hang it on a pasta drying rack to prevent it from sticking together.\\n10. To cook the pasta, bring a large pot of salted water to a boil. Add the pasta and cook it until it is al dente, which means it is cooked but still slightly firm to the bite. The cooking time will vary depending on the thickness and shape of the pasta, so it's best to taste it as it cooks to determine when it's done.\\n11. Once the pasta is cooked, drain it and serve it with your favorite sauce or toppings.\\n\\nEnjoy your homemade Italian pasta!\",\n",
      "        \"generation_info\": {\n",
      "          \"finish_reason\": \"stop\"\n",
      "        },\n",
      "        \"type\": \"ChatGenerationChunk\",\n",
      "        \"message\": {\n",
      "          \"lc\": 1,\n",
      "          \"type\": \"constructor\",\n",
      "          \"id\": [\n",
      "            \"langchain\",\n",
      "            \"schema\",\n",
      "            \"messages\",\n",
      "            \"AIMessageChunk\"\n",
      "          ],\n",
      "          \"kwargs\": {\n",
      "            \"example\": false,\n",
      "            \"content\": \"To make Italian pasta, you will need the following ingredients:\\n\\n- 2 cups of all-purpose flour\\n- 2 large eggs\\n- 1/2 teaspoon of salt\\n- Water (if needed)\\n\\nHere's a step-by-step guide to making Italian pasta:\\n\\n1. On a clean surface or in a large mixing bowl, pour the flour and create a well in the center.\\n2. Crack the eggs into the well and add the salt.\\n3. Using a fork or your fingers, gradually mix the eggs and salt into the flour, incorporating a little bit at a time.\\n4. Once the dough starts to come together, knead it with your hands until it forms a smooth and elastic ball. If the dough is too dry, you can add a little water, one tablespoon at a time, until it reaches the desired consistency.\\n5. Once the dough is formed, cover it with a clean kitchen towel or plastic wrap and let it rest for about 30 minutes. This will allow the gluten to relax and make the dough easier to work with.\\n6. After resting, divide the dough into smaller portions. Take one portion and flatten it with your hands or a rolling pin until it is about 1/4 inch thick.\\n7. If you have a pasta machine, you can use it to roll out the dough to your desired thickness. Start with the widest setting and gradually decrease the thickness until you reach the desired thickness. If you don't have a pasta machine, you can continue to roll the dough with a rolling pin until it is thin enough.\\n8. Once the dough is rolled out, you can cut it into your desired pasta shape. For example, you can cut it into thin strips for spaghetti or fettuccine, or you can use a pasta cutter to create shapes like farfalle (bowtie) or ravioli.\\n9. As you cut the pasta, lay it out on a clean surface or hang it on a pasta drying rack to prevent it from sticking together.\\n10. To cook the pasta, bring a large pot of salted water to a boil. Add the pasta and cook it until it is al dente, which means it is cooked but still slightly firm to the bite. The cooking time will vary depending on the thickness and shape of the pasta, so it's best to taste it as it cooks to determine when it's done.\\n11. Once the pasta is cooked, drain it and serve it with your favorite sauce or toppings.\\n\\nEnjoy your homemade Italian pasta!\",\n",
      "            \"additional_kwargs\": {}\n",
      "          }\n",
      "        }\n",
      "      }\n",
      "    ]\n",
      "  ],\n",
      "  \"llm_output\": null,\n",
      "  \"run\": null\n",
      "}\n"
     ]
    },
    {
     "data": {
      "text/plain": [
       "\"To make Italian pasta, you will need the following ingredients:\\n\\n- 2 cups of all-purpose flour\\n- 2 large eggs\\n- 1/2 teaspoon of salt\\n- Water (if needed)\\n\\nHere's a step-by-step guide to making Italian pasta:\\n\\n1. On a clean surface or in a large mixing bowl, pour the flour and create a well in the center.\\n2. Crack the eggs into the well and add the salt.\\n3. Using a fork or your fingers, gradually mix the eggs and salt into the flour, incorporating a little bit at a time.\\n4. Once the dough starts to come together, knead it with your hands until it forms a smooth and elastic ball. If the dough is too dry, you can add a little water, one tablespoon at a time, until it reaches the desired consistency.\\n5. Once the dough is formed, cover it with a clean kitchen towel or plastic wrap and let it rest for about 30 minutes. This will allow the gluten to relax and make the dough easier to work with.\\n6. After resting, divide the dough into smaller portions. Take one portion and flatten it with your hands or a rolling pin until it is about 1/4 inch thick.\\n7. If you have a pasta machine, you can use it to roll out the dough to your desired thickness. Start with the widest setting and gradually decrease the thickness until you reach the desired thickness. If you don't have a pasta machine, you can continue to roll the dough with a rolling pin until it is thin enough.\\n8. Once the dough is rolled out, you can cut it into your desired pasta shape. For example, you can cut it into thin strips for spaghetti or fettuccine, or you can use a pasta cutter to create shapes like farfalle (bowtie) or ravioli.\\n9. As you cut the pasta, lay it out on a clean surface or hang it on a pasta drying rack to prevent it from sticking together.\\n10. To cook the pasta, bring a large pot of salted water to a boil. Add the pasta and cook it until it is al dente, which means it is cooked but still slightly firm to the bite. The cooking time will vary depending on the thickness and shape of the pasta, so it's best to taste it as it cooks to determine when it's done.\\n11. Once the pasta is cooked, drain it and serve it with your favorite sauce or toppings.\\n\\nEnjoy your homemade Italian pasta!\""
      ]
     },
     "execution_count": 11,
     "metadata": {},
     "output_type": "execute_result"
    }
   ],
   "source": [
    "chat.predict(\"How do you make italian pasta\")"
   ]
  },
  {
   "cell_type": "code",
   "execution_count": 12,
   "metadata": {},
   "outputs": [
    {
     "name": "stdout",
     "output_type": "stream",
     "text": [
      "\u001b[32;1m\u001b[1;3m[llm/start]\u001b[0m \u001b[1m[1:llm:ChatOpenAI] Entering LLM run with input:\n",
      "\u001b[0m{\n",
      "  \"prompts\": [\n",
      "    \"Human: How do you make italian pasta\"\n",
      "  ]\n",
      "}\n",
      "\u001b[36;1m\u001b[1;3m[llm/end]\u001b[0m \u001b[1m[1:llm:ChatOpenAI] [3ms] Exiting LLM run with output:\n",
      "\u001b[0m{\n",
      "  \"generations\": [\n",
      "    [\n",
      "      {\n",
      "        \"text\": \"To make Italian pasta, you will need the following ingredients:\\n\\n- 2 cups of all-purpose flour\\n- 2 large eggs\\n- 1/2 teaspoon of salt\\n- Water (if needed)\\n\\nHere's a step-by-step guide to making Italian pasta:\\n\\n1. On a clean surface or in a large mixing bowl, pour the flour and create a well in the center.\\n2. Crack the eggs into the well and add the salt.\\n3. Using a fork or your fingers, gradually mix the eggs and salt into the flour, incorporating a little bit at a time.\\n4. Once the dough starts to come together, knead it with your hands until it forms a smooth and elastic ball. If the dough is too dry, you can add a little water, one tablespoon at a time, until it reaches the desired consistency.\\n5. Once the dough is formed, cover it with a clean kitchen towel or plastic wrap and let it rest for about 30 minutes. This will allow the gluten to relax and make the dough easier to work with.\\n6. After resting, divide the dough into smaller portions. Take one portion and flatten it with your hands or a rolling pin until it is about 1/4 inch thick.\\n7. If you have a pasta machine, you can use it to roll out the dough to your desired thickness. Start with the widest setting and gradually decrease the thickness until you reach the desired thickness. If you don't have a pasta machine, you can continue to roll the dough with a rolling pin until it is thin enough.\\n8. Once the dough is rolled out, you can cut it into your desired pasta shape. For example, you can cut it into thin strips for spaghetti or fettuccine, or you can use a pasta cutter to create shapes like farfalle (bowtie) or ravioli.\\n9. As you cut the pasta, lay it out on a clean surface or hang it on a pasta drying rack to prevent it from sticking together.\\n10. To cook the pasta, bring a large pot of salted water to a boil. Add the pasta and cook it until it is al dente, which means it is cooked but still slightly firm to the bite. The cooking time will vary depending on the thickness and shape of the pasta, so it's best to taste it as it cooks to determine when it's done.\\n11. Once the pasta is cooked, drain it and serve it with your favorite sauce or toppings.\\n\\nEnjoy your homemade Italian pasta!\",\n",
      "        \"generation_info\": {\n",
      "          \"finish_reason\": \"stop\"\n",
      "        },\n",
      "        \"type\": \"ChatGenerationChunk\",\n",
      "        \"message\": {\n",
      "          \"lc\": 1,\n",
      "          \"type\": \"constructor\",\n",
      "          \"id\": [\n",
      "            \"langchain\",\n",
      "            \"schema\",\n",
      "            \"messages\",\n",
      "            \"AIMessageChunk\"\n",
      "          ],\n",
      "          \"kwargs\": {\n",
      "            \"example\": false,\n",
      "            \"content\": \"To make Italian pasta, you will need the following ingredients:\\n\\n- 2 cups of all-purpose flour\\n- 2 large eggs\\n- 1/2 teaspoon of salt\\n- Water (if needed)\\n\\nHere's a step-by-step guide to making Italian pasta:\\n\\n1. On a clean surface or in a large mixing bowl, pour the flour and create a well in the center.\\n2. Crack the eggs into the well and add the salt.\\n3. Using a fork or your fingers, gradually mix the eggs and salt into the flour, incorporating a little bit at a time.\\n4. Once the dough starts to come together, knead it with your hands until it forms a smooth and elastic ball. If the dough is too dry, you can add a little water, one tablespoon at a time, until it reaches the desired consistency.\\n5. Once the dough is formed, cover it with a clean kitchen towel or plastic wrap and let it rest for about 30 minutes. This will allow the gluten to relax and make the dough easier to work with.\\n6. After resting, divide the dough into smaller portions. Take one portion and flatten it with your hands or a rolling pin until it is about 1/4 inch thick.\\n7. If you have a pasta machine, you can use it to roll out the dough to your desired thickness. Start with the widest setting and gradually decrease the thickness until you reach the desired thickness. If you don't have a pasta machine, you can continue to roll the dough with a rolling pin until it is thin enough.\\n8. Once the dough is rolled out, you can cut it into your desired pasta shape. For example, you can cut it into thin strips for spaghetti or fettuccine, or you can use a pasta cutter to create shapes like farfalle (bowtie) or ravioli.\\n9. As you cut the pasta, lay it out on a clean surface or hang it on a pasta drying rack to prevent it from sticking together.\\n10. To cook the pasta, bring a large pot of salted water to a boil. Add the pasta and cook it until it is al dente, which means it is cooked but still slightly firm to the bite. The cooking time will vary depending on the thickness and shape of the pasta, so it's best to taste it as it cooks to determine when it's done.\\n11. Once the pasta is cooked, drain it and serve it with your favorite sauce or toppings.\\n\\nEnjoy your homemade Italian pasta!\",\n",
      "            \"additional_kwargs\": {}\n",
      "          }\n",
      "        }\n",
      "      }\n",
      "    ]\n",
      "  ],\n",
      "  \"llm_output\": null,\n",
      "  \"run\": null\n",
      "}\n"
     ]
    },
    {
     "data": {
      "text/plain": [
       "\"To make Italian pasta, you will need the following ingredients:\\n\\n- 2 cups of all-purpose flour\\n- 2 large eggs\\n- 1/2 teaspoon of salt\\n- Water (if needed)\\n\\nHere's a step-by-step guide to making Italian pasta:\\n\\n1. On a clean surface or in a large mixing bowl, pour the flour and create a well in the center.\\n2. Crack the eggs into the well and add the salt.\\n3. Using a fork or your fingers, gradually mix the eggs and salt into the flour, incorporating a little bit at a time.\\n4. Once the dough starts to come together, knead it with your hands until it forms a smooth and elastic ball. If the dough is too dry, you can add a little water, one tablespoon at a time, until it reaches the desired consistency.\\n5. Once the dough is formed, cover it with a clean kitchen towel or plastic wrap and let it rest for about 30 minutes. This will allow the gluten to relax and make the dough easier to work with.\\n6. After resting, divide the dough into smaller portions. Take one portion and flatten it with your hands or a rolling pin until it is about 1/4 inch thick.\\n7. If you have a pasta machine, you can use it to roll out the dough to your desired thickness. Start with the widest setting and gradually decrease the thickness until you reach the desired thickness. If you don't have a pasta machine, you can continue to roll the dough with a rolling pin until it is thin enough.\\n8. Once the dough is rolled out, you can cut it into your desired pasta shape. For example, you can cut it into thin strips for spaghetti or fettuccine, or you can use a pasta cutter to create shapes like farfalle (bowtie) or ravioli.\\n9. As you cut the pasta, lay it out on a clean surface or hang it on a pasta drying rack to prevent it from sticking together.\\n10. To cook the pasta, bring a large pot of salted water to a boil. Add the pasta and cook it until it is al dente, which means it is cooked but still slightly firm to the bite. The cooking time will vary depending on the thickness and shape of the pasta, so it's best to taste it as it cooks to determine when it's done.\\n11. Once the pasta is cooked, drain it and serve it with your favorite sauce or toppings.\\n\\nEnjoy your homemade Italian pasta!\""
      ]
     },
     "execution_count": 12,
     "metadata": {},
     "output_type": "execute_result"
    }
   ],
   "source": [
    "chat.predict(\"How do you make italian pasta\")"
   ]
  },
  {
   "cell_type": "markdown",
   "metadata": {},
   "source": [
    "## 비용산정\n"
   ]
  },
  {
   "cell_type": "code",
   "execution_count": 19,
   "metadata": {},
   "outputs": [
    {
     "name": "stdout",
     "output_type": "stream",
     "text": [
      "\u001b[32;1m\u001b[1;3m[llm/start]\u001b[0m \u001b[1m[1:llm:ChatOpenAI] Entering LLM run with input:\n",
      "\u001b[0m{\n",
      "  \"prompts\": [\n",
      "    \"Human: What is the recipe for hamburger?\"\n",
      "  ]\n",
      "}\n",
      "\u001b[36;1m\u001b[1;3m[llm/end]\u001b[0m \u001b[1m[1:llm:ChatOpenAI] [5.62s] Exiting LLM run with output:\n",
      "\u001b[0m{\n",
      "  \"generations\": [\n",
      "    [\n",
      "      {\n",
      "        \"text\": \"Ingredients:\\n- 1 pound ground beef\\n- 1/2 teaspoon salt\\n- 1/4 teaspoon black pepper\\n- 1/4 teaspoon garlic powder\\n- 1/4 teaspoon onion powder\\n- 4 hamburger buns\\n- Optional toppings: lettuce, tomato, onion, cheese, pickles, ketchup, mustard, mayonnaise\\n\\nInstructions:\\n1. Preheat a grill or stovetop pan over medium-high heat.\\n2. In a mixing bowl, combine the ground beef, salt, black pepper, garlic powder, and onion powder. Mix well until all the ingredients are evenly incorporated.\\n3. Divide the mixture into four equal portions and shape each portion into a patty, about 1/2 inch thick.\\n4. Place the patties on the preheated grill or pan and cook for about 4-5 minutes on each side, or until desired level of doneness is reached.\\n5. While the patties are cooking, you can toast the hamburger buns if desired.\\n6. Once the patties are cooked, remove them from the heat and let them rest for a few minutes.\\n7. Assemble the hamburgers by placing each patty on a bun and adding your desired toppings.\\n8. Serve immediately and enjoy your homemade hamburgers!\",\n",
      "        \"generation_info\": {\n",
      "          \"finish_reason\": \"stop\"\n",
      "        },\n",
      "        \"type\": \"ChatGeneration\",\n",
      "        \"message\": {\n",
      "          \"lc\": 1,\n",
      "          \"type\": \"constructor\",\n",
      "          \"id\": [\n",
      "            \"langchain\",\n",
      "            \"schema\",\n",
      "            \"messages\",\n",
      "            \"AIMessage\"\n",
      "          ],\n",
      "          \"kwargs\": {\n",
      "            \"content\": \"Ingredients:\\n- 1 pound ground beef\\n- 1/2 teaspoon salt\\n- 1/4 teaspoon black pepper\\n- 1/4 teaspoon garlic powder\\n- 1/4 teaspoon onion powder\\n- 4 hamburger buns\\n- Optional toppings: lettuce, tomato, onion, cheese, pickles, ketchup, mustard, mayonnaise\\n\\nInstructions:\\n1. Preheat a grill or stovetop pan over medium-high heat.\\n2. In a mixing bowl, combine the ground beef, salt, black pepper, garlic powder, and onion powder. Mix well until all the ingredients are evenly incorporated.\\n3. Divide the mixture into four equal portions and shape each portion into a patty, about 1/2 inch thick.\\n4. Place the patties on the preheated grill or pan and cook for about 4-5 minutes on each side, or until desired level of doneness is reached.\\n5. While the patties are cooking, you can toast the hamburger buns if desired.\\n6. Once the patties are cooked, remove them from the heat and let them rest for a few minutes.\\n7. Assemble the hamburgers by placing each patty on a bun and adding your desired toppings.\\n8. Serve immediately and enjoy your homemade hamburgers!\",\n",
      "            \"additional_kwargs\": {}\n",
      "          }\n",
      "        }\n",
      "      }\n",
      "    ]\n",
      "  ],\n",
      "  \"llm_output\": {\n",
      "    \"token_usage\": {\n",
      "      \"prompt_tokens\": 15,\n",
      "      \"completion_tokens\": 265,\n",
      "      \"total_tokens\": 280\n",
      "    },\n",
      "    \"model_name\": \"gpt-3.5-turbo\",\n",
      "    \"system_fingerprint\": null\n",
      "  },\n",
      "  \"run\": null\n",
      "}\n",
      "Tokens Used: 280\n",
      "\tPrompt Tokens: 15\n",
      "\tCompletion Tokens: 265\n",
      "Successful Requests: 1\n",
      "Total Cost (USD): $0.0005525\n"
     ]
    }
   ],
   "source": [
    "from dotenv import load_dotenv\n",
    "load_dotenv()\n",
    "\n",
    "from langchain.chat_models import ChatOpenAI\n",
    "from langchain.prompts import PromptTemplate, ChatPromptTemplate\n",
    "from langchain.callbacks import get_openai_callback\n",
    "\n",
    "from langchain.globals import set_llm_cache, set_debug\n",
    "from langchain.cache import InMemoryCache, SQLiteCache\n",
    "\n",
    "# Streaming callback 을 사용하면 get_openai_callback 적용이 안된다.\n",
    "chat = ChatOpenAI(temperature=.1)\n",
    "\n",
    "# set_llm_cache(SQLiteCache(\"cache.db\"))\n",
    "set_llm_cache(None)\n",
    "set_debug(True)\n",
    "\n",
    "with get_openai_callback() as usage:\n",
    "    a = chat.predict(\"What is the recipe for hamburger? \")\n",
    "    # b = chat.predict(\"What is the recipe for soju? \")\n",
    "\n",
    "    # print(a, b, \"\\n\")\n",
    "    print(usage) \n",
    "    print(usage.prompt_tokens)"
   ]
  },
  {
   "cell_type": "code",
   "execution_count": 38,
   "metadata": {},
   "outputs": [],
   "source": [
    "from langchain.chat_models import ChatOpenAI\n",
    "from langchain.llms.openai import OpenAI\n",
    "from langchain.llms.loading import load_llm\n",
    "\n",
    "llm = OpenAI(temperature=.1, max_tokens=450, model=\"gpt-3.5-turbo\")\n",
    "llm.save(\"model.json\")\n",
    "\n",
    "# llm.predict(\"hi\")"
   ]
  },
  {
   "cell_type": "code",
   "execution_count": 37,
   "metadata": {},
   "outputs": [
    {
     "name": "stderr",
     "output_type": "stream",
     "text": [
      "/Users/senspond/anaconda3/envs/full-gpt/lib/python3.10/site-packages/langchain/llms/openai.py:216: UserWarning: You are trying to use a chat model. This way of initializing it is no longer supported. Instead, please use: `from langchain.chat_models import ChatOpenAI`\n",
      "  warnings.warn(\n",
      "/Users/senspond/anaconda3/envs/full-gpt/lib/python3.10/site-packages/langchain/llms/openai.py:811: UserWarning: You are trying to use a chat model. This way of initializing it is no longer supported. Instead, please use: `from langchain.chat_models import ChatOpenAI`\n",
      "  warnings.warn(\n"
     ]
    },
    {
     "name": "stdout",
     "output_type": "stream",
     "text": [
      "\u001b[32;1m\u001b[1;3m[llm/start]\u001b[0m \u001b[1m[1:llm:OpenAIChat] Entering LLM run with input:\n",
      "\u001b[0m{\n",
      "  \"prompts\": [\n",
      "    \"hi\"\n",
      "  ]\n",
      "}\n",
      "\u001b[36;1m\u001b[1;3m[llm/end]\u001b[0m \u001b[1m[1:llm:OpenAIChat] [563ms] Exiting LLM run with output:\n",
      "\u001b[0m{\n",
      "  \"generations\": [\n",
      "    [\n",
      "      {\n",
      "        \"text\": \"Hello! How can I assist you today?\",\n",
      "        \"generation_info\": null,\n",
      "        \"type\": \"Generation\"\n",
      "      }\n",
      "    ]\n",
      "  ],\n",
      "  \"llm_output\": {\n",
      "    \"token_usage\": {\n",
      "      \"prompt_tokens\": 8,\n",
      "      \"completion_tokens\": 9,\n",
      "      \"total_tokens\": 17\n",
      "    },\n",
      "    \"model_name\": \"gpt-3.5-turbo\"\n",
      "  },\n",
      "  \"run\": null\n",
      "}\n"
     ]
    },
    {
     "data": {
      "text/plain": [
       "'Hello! How can I assist you today?'"
      ]
     },
     "execution_count": 37,
     "metadata": {},
     "output_type": "execute_result"
    }
   ],
   "source": [
    "llm = load_llm(\"model.json\")\n",
    "\n",
    "llm.predict(\"hi\")\n"
   ]
  },
  {
   "cell_type": "code",
   "execution_count": 28,
   "metadata": {},
   "outputs": [
    {
     "ename": "AttributeError",
     "evalue": "'ChatOpenAI' object has no attribute 'save'",
     "output_type": "error",
     "traceback": [
      "\u001b[0;31m---------------------------------------------------------------------------\u001b[0m",
      "\u001b[0;31mAttributeError\u001b[0m                            Traceback (most recent call last)",
      "\u001b[1;32m/Users/senspond/Dev/full-gpt/notebook/05.ipynb 셀 14\u001b[0m line \u001b[0;36m2\n\u001b[1;32m      <a href='vscode-notebook-cell:/Users/senspond/Dev/full-gpt/notebook/05.ipynb#X25sZmlsZQ%3D%3D?line=0'>1</a>\u001b[0m chat \u001b[39m=\u001b[39m ChatOpenAI(temperature\u001b[39m=\u001b[39m\u001b[39m.1\u001b[39m)\n\u001b[0;32m----> <a href='vscode-notebook-cell:/Users/senspond/Dev/full-gpt/notebook/05.ipynb#X25sZmlsZQ%3D%3D?line=1'>2</a>\u001b[0m chat\u001b[39m.\u001b[39;49msave(\u001b[39m\"\u001b[39m\u001b[39mmodal.json\u001b[39m\u001b[39m\"\u001b[39m)\n",
      "\u001b[0;31mAttributeError\u001b[0m: 'ChatOpenAI' object has no attribute 'save'"
     ]
    }
   ],
   "source": [
    "\n",
    "chat = ChatOpenAI(temperature=.1)\n",
    "\n",
    "# ChatOpenAI 에는 save 가 없다."
   ]
  },
  {
   "cell_type": "code",
   "execution_count": null,
   "metadata": {},
   "outputs": [],
   "source": []
  }
 ],
 "metadata": {
  "kernelspec": {
   "display_name": "full-gpt",
   "language": "python",
   "name": "python3"
  },
  "language_info": {
   "codemirror_mode": {
    "name": "ipython",
    "version": 3
   },
   "file_extension": ".py",
   "mimetype": "text/x-python",
   "name": "python",
   "nbconvert_exporter": "python",
   "pygments_lexer": "ipython3",
   "version": "3.10.13"
  }
 },
 "nbformat": 4,
 "nbformat_minor": 2
}
