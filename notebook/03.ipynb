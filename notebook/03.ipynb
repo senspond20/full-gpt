{
 "cells": [
  {
   "cell_type": "markdown",
   "metadata": {},
   "source": [
    "# Modules\n",
    "LangChain provides standard, extendable interfaces and external integrations for the following main modules:\n",
    "\n",
    "## Model I/O\n",
    "Interface with language models\n",
    "\n",
    "## Retrieval\n",
    "Interface with application-specific data\n",
    "\n",
    "## Agents\n",
    "Let chains choose which tools to use given high-level directives\n",
    "> 아직은 실험적인 기술로 자동으로 선택되게 만듬\n",
    "\n",
    "# Additional\n",
    "## Chains\n",
    "Common, building block compositions\n",
    "\n",
    "## Memory\n",
    "Persist application state between runs of a chain\n",
    "\n",
    "## Callbacks\n",
    "Log and stream intermediate steps of any chain\n",
    "> 모델이 어떤 과정을 거치고 있는지 지켜볼 수 있도록 "
   ]
  },
  {
   "cell_type": "code",
   "execution_count": 2,
   "metadata": {},
   "outputs": [
    {
     "data": {
      "text/plain": [
       "True"
      ]
     },
     "execution_count": 2,
     "metadata": {},
     "output_type": "execute_result"
    }
   ],
   "source": [
    "from dotenv import load_dotenv\n",
    "load_dotenv()"
   ]
  },
  {
   "cell_type": "code",
   "execution_count": 8,
   "metadata": {},
   "outputs": [
    {
     "name": "stdout",
     "output_type": "stream",
     "text": [
      "What is the capital of France\n"
     ]
    }
   ],
   "source": [
    "\n",
    "from langchain.chat_models import ChatOpenAI\n",
    "from langchain.prompts import ChatPromptTemplate, PromptTemplate\n",
    "from langchain.prompts.few_shot import FewShotPromptTemplate\n",
    "from langchain.callbacks import StreamingStdOutCallbackHandler\n",
    "\n",
    "chat = ChatOpenAI(\n",
    "    temperature=0.1, \n",
    "    streaming=True, \n",
    "    callbacks=[StreamingStdOutCallbackHandler()]\n",
    ")\n",
    "\n",
    "\n",
    "t = PromptTemplate.from_template(\"What is the capital of {country}\")\n",
    "prompt = t.format(country= \"France\")\n",
    "print(prompt)"
   ]
  },
  {
   "cell_type": "code",
   "execution_count": 9,
   "metadata": {},
   "outputs": [
    {
     "name": "stdout",
     "output_type": "stream",
     "text": [
      "What is the capital of France\n"
     ]
    }
   ],
   "source": [
    "t = PromptTemplate(\n",
    "    template=\"What is the capital of {country}\",\n",
    "    input_variables=[\"country\"]\n",
    ")\n",
    "prompt = t.format(country= \"France\")\n",
    "print(prompt)\n"
   ]
  },
  {
   "cell_type": "markdown",
   "metadata": {},
   "source": [
    "## FewShot \n",
    "> 프롬프트에 예제들을 준다는것\n",
    "\n",
    "### FewShotPromptTemplate"
   ]
  },
  {
   "cell_type": "code",
   "execution_count": 11,
   "metadata": {},
   "outputs": [],
   "source": [
    "examples = [\n",
    "        {\n",
    "            \"question\": \"What do you know about France?\",\n",
    "            \"answer\": \"\"\",\n",
    "            Here is what I know:,\n",
    "            Capital: Paris,\n",
    "            Language: French,\n",
    "            Food: Wine and Cheese,\n",
    "            Currency: Euro,\n",
    "            \"\"\"\n",
    "        },\n",
    "        {\n",
    "            \"question\": \"What do you know about Italy?\",\n",
    "            \"answer\": \"\"\",\n",
    "            I know this:,\n",
    "            Capital: Rome,\n",
    "            Language: Italian,\n",
    "            Food: Pizza and Pasta,\n",
    "            Currency: Euro,\n",
    "            \"\"\",\n",
    "        },\n",
    "        {\n",
    "            \"question\": \"What do you know about Greece?\",\n",
    "            \"answer\": \"\"\",\n",
    "            I know this:,\n",
    "            Capital: Athens,\n",
    "            Language: Greek,\n",
    "            Food: Souvlaki and Feta Cheese,\n",
    "            Currency: Euro,\n",
    "            \"\"\",\n",
    "        },\n",
    "    ]"
   ]
  },
  {
   "cell_type": "code",
   "execution_count": 12,
   "metadata": {},
   "outputs": [
    {
     "name": "stdout",
     "output_type": "stream",
     "text": [
      "France is a country located in Western Europe. It is known for its rich history, culture, and contributions to art, literature, and philosophy. France is famous for its iconic landmarks such as the Eiffel Tower, Louvre Museum, and Notre-Dame Cathedral.\n",
      "\n",
      "The country has a diverse landscape, ranging from beautiful coastlines along the Mediterranean Sea and the Atlantic Ocean to picturesque countryside and the majestic Alps. France is also renowned for its cuisine, including dishes like croissants, baguettes, cheese, wine, and gourmet cuisine.\n",
      "\n",
      "Paris, the capital city of France, is a major global center for art, fashion, and gastronomy. It is home to numerous world-class museums, fashion houses, and Michelin-starred restaurants. Other notable cities in France include Marseille, Lyon, Toulouse, and Nice.\n",
      "\n",
      "France is a member of the European Union and has a developed economy. It is known for its strong aerospace, automotive, luxury goods, and tourism industries. The country also has a well-developed transportation system, including an extensive high-speed train network.\n",
      "\n",
      "French is the official language of France, and the country has a rich literary tradition with famous authors like Victor Hugo, Voltaire, and Albert Camus. The French education system is highly regarded, and France is home to many prestigious universities and research institutions.\n",
      "\n",
      "France has a strong cultural identity and is known for its emphasis on art, fashion, and intellectual pursuits. The French people are often associated with a love for good food, wine, and a relaxed lifestyle. The country also has a strong sporting culture, with football (soccer), rugby, and cycling being popular sports.\n",
      "\n",
      "Overall, France is a country with a rich cultural heritage, stunning landscapes, and a significant influence on art, literature, and cuisine worldwide."
     ]
    },
    {
     "data": {
      "text/plain": [
       "'France is a country located in Western Europe. It is known for its rich history, culture, and contributions to art, literature, and philosophy. France is famous for its iconic landmarks such as the Eiffel Tower, Louvre Museum, and Notre-Dame Cathedral.\\n\\nThe country has a diverse landscape, ranging from beautiful coastlines along the Mediterranean Sea and the Atlantic Ocean to picturesque countryside and the majestic Alps. France is also renowned for its cuisine, including dishes like croissants, baguettes, cheese, wine, and gourmet cuisine.\\n\\nParis, the capital city of France, is a major global center for art, fashion, and gastronomy. It is home to numerous world-class museums, fashion houses, and Michelin-starred restaurants. Other notable cities in France include Marseille, Lyon, Toulouse, and Nice.\\n\\nFrance is a member of the European Union and has a developed economy. It is known for its strong aerospace, automotive, luxury goods, and tourism industries. The country also has a well-developed transportation system, including an extensive high-speed train network.\\n\\nFrench is the official language of France, and the country has a rich literary tradition with famous authors like Victor Hugo, Voltaire, and Albert Camus. The French education system is highly regarded, and France is home to many prestigious universities and research institutions.\\n\\nFrance has a strong cultural identity and is known for its emphasis on art, fashion, and intellectual pursuits. The French people are often associated with a love for good food, wine, and a relaxed lifestyle. The country also has a strong sporting culture, with football (soccer), rugby, and cycling being popular sports.\\n\\nOverall, France is a country with a rich cultural heritage, stunning landscapes, and a significant influence on art, literature, and cuisine worldwide.'"
      ]
     },
     "execution_count": 12,
     "metadata": {},
     "output_type": "execute_result"
    }
   ],
   "source": [
    "chat.predict(\"What do you about France\")"
   ]
  },
  {
   "cell_type": "code",
   "execution_count": 17,
   "metadata": {},
   "outputs": [
    {
     "name": "stdout",
     "output_type": "stream",
     "text": [
      "\n",
      "    Human : What do you know about France?\n",
      "    AI : ,\n",
      "            Here is what I know:,\n",
      "            Capital: Paris,\n",
      "            Language: French,\n",
      "            Food: Wine and Cheese,\n",
      "            Currency: Euro,\n",
      "            \n",
      "\n",
      "\n",
      "\n",
      "    Human : What do you know about Italy?\n",
      "    AI : ,\n",
      "            I know this:,\n",
      "            Capital: Rome,\n",
      "            Language: Italian,\n",
      "            Food: Pizza and Pasta,\n",
      "            Currency: Euro,\n",
      "            \n",
      "\n",
      "\n",
      "\n",
      "    Human : What do you know about Greece?\n",
      "    AI : ,\n",
      "            I know this:,\n",
      "            Capital: Athens,\n",
      "            Language: Greek,\n",
      "            Food: Souvlaki and Feta Cheese,\n",
      "            Currency: Euro,\n",
      "            \n",
      "\n",
      "\n",
      "Human : What do you know aboud Germary?\n"
     ]
    }
   ],
   "source": [
    "example_template = \"\"\"\n",
    "    Human : {question}\n",
    "    AI : {answer}\n",
    "\"\"\"\n",
    "example_propmt = PromptTemplate.from_template(example_template)\n",
    "\n",
    "prompt = FewShotPromptTemplate(\n",
    "    example_prompt=example_propmt,\n",
    "    examples=examples,\n",
    "    suffix=\"Human : What do you know aboud {country}?\",\n",
    "    input_variables=[\"country\"]\n",
    ")\n",
    "message = prompt.format(country=\"Germary\")\n",
    "\n",
    "for item in message.split(\"\\n\"):\n",
    "    print(item)\n"
   ]
  },
  {
   "cell_type": "code",
   "execution_count": 19,
   "metadata": {},
   "outputs": [
    {
     "name": "stdout",
     "output_type": "stream",
     "text": [
      "AI : \n",
      "I know this:\n",
      "Capital: Seoul,\n",
      "Language: Korean,\n",
      "Food: Kimchi and Bibimbap,\n",
      "Currency: South Korean won."
     ]
    },
    {
     "data": {
      "text/plain": [
       "AIMessageChunk(content='AI : \\nI know this:\\nCapital: Seoul,\\nLanguage: Korean,\\nFood: Kimchi and Bibimbap,\\nCurrency: South Korean won.')"
      ]
     },
     "execution_count": 19,
     "metadata": {},
     "output_type": "execute_result"
    }
   ],
   "source": [
    "chain = prompt | chat\n",
    "\n",
    "chain.invoke({\n",
    "    # \"country\" : \"Germany\"\n",
    "    \"country\" : \"Korea\"\n",
    "})"
   ]
  },
  {
   "cell_type": "markdown",
   "metadata": {},
   "source": [
    "### FewShotChatMessagePromptTemplate"
   ]
  },
  {
   "cell_type": "code",
   "execution_count": 20,
   "metadata": {},
   "outputs": [],
   "source": [
    "from langchain.chat_models import ChatOpenAI\n",
    "from langchain.prompts import ChatPromptTemplate\n",
    "from langchain.prompts.few_shot import FewShotChatMessagePromptTemplate\n",
    "from langchain.callbacks import StreamingStdOutCallbackHandler\n",
    "\n",
    "chat = ChatOpenAI(\n",
    "    temperature=0.1, \n",
    "    streaming=True, \n",
    "    callbacks=[StreamingStdOutCallbackHandler()]\n",
    ")\n",
    "\n",
    "examples = [\n",
    "    {\n",
    "        \"country\": \"France\",\n",
    "        \"answer\": \"\"\"\n",
    "        Here is what I know:\n",
    "        Capital: Paris\n",
    "        Language: French\n",
    "        Food: Wine and Cheese\n",
    "        Currency: Euro\n",
    "        \"\"\",\n",
    "    },\n",
    "    {\n",
    "        \"country\": \"Italy\",\n",
    "        \"answer\": \"\"\"\n",
    "        I know this:\n",
    "        Capital: Rome\n",
    "        Language: Italian\n",
    "        Food: Pizza and Pasta\n",
    "        Currency: Euro\n",
    "        \"\"\",\n",
    "    },\n",
    "    {\n",
    "        \"country\": \"Greece\",\n",
    "        \"answer\": \"\"\"\n",
    "        I know this:\n",
    "        Capital: Athens\n",
    "        Language: Greek\n",
    "        Food: Souvlaki and Feta Cheese\n",
    "        Currency: Euro\n",
    "        \"\"\",\n",
    "    },\n",
    "]\n"
   ]
  },
  {
   "cell_type": "code",
   "execution_count": 22,
   "metadata": {},
   "outputs": [],
   "source": [
    "example_prompt = ChatPromptTemplate.from_messages(\n",
    "    [\n",
    "        (\"human\", \"What do you know about {country}?\"),\n",
    "        (\"ai\", \"{answer}\"),\n",
    "    ]\n",
    ")\n"
   ]
  },
  {
   "cell_type": "code",
   "execution_count": 23,
   "metadata": {},
   "outputs": [
    {
     "name": "stdout",
     "output_type": "stream",
     "text": [
      "\n",
      "        I know this:\n",
      "        Capital: Bangkok\n",
      "        Language: Thai\n",
      "        Food: Pad Thai and Tom Yum Soup\n",
      "        Currency: Thai Baht\n",
      "        "
     ]
    },
    {
     "data": {
      "text/plain": [
       "AIMessageChunk(content='\\n        I know this:\\n        Capital: Bangkok\\n        Language: Thai\\n        Food: Pad Thai and Tom Yum Soup\\n        Currency: Thai Baht\\n        ')"
      ]
     },
     "execution_count": 23,
     "metadata": {},
     "output_type": "execute_result"
    }
   ],
   "source": [
    "example_prompt = FewShotChatMessagePromptTemplate(\n",
    "    example_prompt=example_prompt,\n",
    "    examples=examples,\n",
    ")\n",
    "\n",
    "final_prompt = ChatPromptTemplate.from_messages(\n",
    "    [\n",
    "        # 전문가라고만 하면 길게 답변을 하기에  you give short answers.\n",
    "        (\"system\", \"You are a geography expert, you give short answers.\"),\n",
    "        example_prompt,\n",
    "        (\"human\", \"What do you know about {country}?\"),\n",
    "    ]\n",
    ")\n",
    "\n",
    "chain = final_prompt | chat\n",
    "\n",
    "chain.invoke({\"country\": \"Thailand\"})"
   ]
  }
 ],
 "metadata": {
  "kernelspec": {
   "display_name": "full-gpt",
   "language": "python",
   "name": "python3"
  },
  "language_info": {
   "codemirror_mode": {
    "name": "ipython",
    "version": 3
   },
   "file_extension": ".py",
   "mimetype": "text/x-python",
   "name": "python",
   "nbconvert_exporter": "python",
   "pygments_lexer": "ipython3",
   "version": "3.10.13"
  }
 },
 "nbformat": 4,
 "nbformat_minor": 2
}
