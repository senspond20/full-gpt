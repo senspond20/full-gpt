{
 "cells": [
  {
   "cell_type": "markdown",
   "metadata": {},
   "source": [
    "# Modules\n",
    "LangChain provides standard, extendable interfaces and external integrations for the following main modules:\n",
    "\n",
    "## Model I/O\n",
    "Interface with language models\n",
    "\n",
    "## Retrieval\n",
    "Interface with application-specific data\n",
    "\n",
    "## Agents\n",
    "Let chains choose which tools to use given high-level directives\n",
    "> 아직은 실험적인 기술로 자동으로 선택되게 만듬\n",
    "\n",
    "# Additional\n",
    "## Chains\n",
    "Common, building block compositions\n",
    "\n",
    "## Memory\n",
    "Persist application state between runs of a chain\n",
    "\n",
    "## Callbacks\n",
    "Log and stream intermediate steps of any chain\n",
    "> 모델이 어떤 과정을 거치고 있는지 지켜볼 수 있도록 "
   ]
  },
  {
   "cell_type": "code",
   "execution_count": 2,
   "metadata": {},
   "outputs": [
    {
     "data": {
      "text/plain": [
       "True"
      ]
     },
     "execution_count": 2,
     "metadata": {},
     "output_type": "execute_result"
    }
   ],
   "source": [
    "from dotenv import load_dotenv\n",
    "load_dotenv()"
   ]
  },
  {
   "cell_type": "code",
   "execution_count": 8,
   "metadata": {},
   "outputs": [
    {
     "name": "stdout",
     "output_type": "stream",
     "text": [
      "What is the capital of France\n"
     ]
    }
   ],
   "source": [
    "\n",
    "from langchain.chat_models import ChatOpenAI\n",
    "from langchain.prompts import ChatPromptTemplate, PromptTemplate\n",
    "from langchain.prompts.few_shot import FewShotPromptTemplate\n",
    "from langchain.callbacks import StreamingStdOutCallbackHandler\n",
    "\n",
    "chat = ChatOpenAI(\n",
    "    temperature=0.1, \n",
    "    streaming=True, \n",
    "    callbacks=[StreamingStdOutCallbackHandler()]\n",
    ")\n",
    "\n",
    "\n",
    "t = PromptTemplate.from_template(\"What is the capital of {country}\")\n",
    "prompt = t.format(country= \"France\")\n",
    "print(prompt)"
   ]
  },
  {
   "cell_type": "code",
   "execution_count": 9,
   "metadata": {},
   "outputs": [
    {
     "name": "stdout",
     "output_type": "stream",
     "text": [
      "What is the capital of France\n"
     ]
    }
   ],
   "source": [
    "t = PromptTemplate(\n",
    "    template=\"What is the capital of {country}\",\n",
    "    input_variables=[\"country\"]\n",
    ")\n",
    "prompt = t.format(country= \"France\")\n",
    "print(prompt)\n"
   ]
  },
  {
   "cell_type": "markdown",
   "metadata": {},
   "source": [
    "## FewShot \n",
    "> 프롬프트에 예제들을 준다는것\n",
    "\n",
    "### FewShotPromptTemplate"
   ]
  },
  {
   "cell_type": "code",
   "execution_count": 11,
   "metadata": {},
   "outputs": [],
   "source": [
    "examples = [\n",
    "        {\n",
    "            \"question\": \"What do you know about France?\",\n",
    "            \"answer\": \"\"\",\n",
    "            Here is what I know:,\n",
    "            Capital: Paris,\n",
    "            Language: French,\n",
    "            Food: Wine and Cheese,\n",
    "            Currency: Euro,\n",
    "            \"\"\"\n",
    "        },\n",
    "        {\n",
    "            \"question\": \"What do you know about Italy?\",\n",
    "            \"answer\": \"\"\",\n",
    "            I know this:,\n",
    "            Capital: Rome,\n",
    "            Language: Italian,\n",
    "            Food: Pizza and Pasta,\n",
    "            Currency: Euro,\n",
    "            \"\"\",\n",
    "        },\n",
    "        {\n",
    "            \"question\": \"What do you know about Greece?\",\n",
    "            \"answer\": \"\"\",\n",
    "            I know this:,\n",
    "            Capital: Athens,\n",
    "            Language: Greek,\n",
    "            Food: Souvlaki and Feta Cheese,\n",
    "            Currency: Euro,\n",
    "            \"\"\",\n",
    "        },\n",
    "    ]"
   ]
  },
  {
   "cell_type": "code",
   "execution_count": 12,
   "metadata": {},
   "outputs": [
    {
     "name": "stdout",
     "output_type": "stream",
     "text": [
      "France is a country located in Western Europe. It is known for its rich history, culture, and contributions to art, literature, and philosophy. France is famous for its iconic landmarks such as the Eiffel Tower, Louvre Museum, and Notre-Dame Cathedral.\n",
      "\n",
      "The country has a diverse landscape, ranging from beautiful coastlines along the Mediterranean Sea and the Atlantic Ocean to picturesque countryside and the majestic Alps. France is also renowned for its cuisine, including dishes like croissants, baguettes, cheese, wine, and gourmet cuisine.\n",
      "\n",
      "Paris, the capital city of France, is a major global center for art, fashion, and gastronomy. It is home to numerous world-class museums, fashion houses, and Michelin-starred restaurants. Other notable cities in France include Marseille, Lyon, Toulouse, and Nice.\n",
      "\n",
      "France is a member of the European Union and has a developed economy. It is known for its strong aerospace, automotive, luxury goods, and tourism industries. The country also has a well-developed transportation system, including an extensive high-speed train network.\n",
      "\n",
      "French is the official language of France, and the country has a rich literary tradition with famous authors like Victor Hugo, Voltaire, and Albert Camus. The French education system is highly regarded, and France is home to many prestigious universities and research institutions.\n",
      "\n",
      "France has a strong cultural identity and is known for its emphasis on art, fashion, and intellectual pursuits. The French people are often associated with a love for good food, wine, and a relaxed lifestyle. The country also has a strong sporting culture, with football (soccer), rugby, and cycling being popular sports.\n",
      "\n",
      "Overall, France is a country with a rich cultural heritage, stunning landscapes, and a significant influence on art, literature, and cuisine worldwide."
     ]
    },
    {
     "data": {
      "text/plain": [
       "'France is a country located in Western Europe. It is known for its rich history, culture, and contributions to art, literature, and philosophy. France is famous for its iconic landmarks such as the Eiffel Tower, Louvre Museum, and Notre-Dame Cathedral.\\n\\nThe country has a diverse landscape, ranging from beautiful coastlines along the Mediterranean Sea and the Atlantic Ocean to picturesque countryside and the majestic Alps. France is also renowned for its cuisine, including dishes like croissants, baguettes, cheese, wine, and gourmet cuisine.\\n\\nParis, the capital city of France, is a major global center for art, fashion, and gastronomy. It is home to numerous world-class museums, fashion houses, and Michelin-starred restaurants. Other notable cities in France include Marseille, Lyon, Toulouse, and Nice.\\n\\nFrance is a member of the European Union and has a developed economy. It is known for its strong aerospace, automotive, luxury goods, and tourism industries. The country also has a well-developed transportation system, including an extensive high-speed train network.\\n\\nFrench is the official language of France, and the country has a rich literary tradition with famous authors like Victor Hugo, Voltaire, and Albert Camus. The French education system is highly regarded, and France is home to many prestigious universities and research institutions.\\n\\nFrance has a strong cultural identity and is known for its emphasis on art, fashion, and intellectual pursuits. The French people are often associated with a love for good food, wine, and a relaxed lifestyle. The country also has a strong sporting culture, with football (soccer), rugby, and cycling being popular sports.\\n\\nOverall, France is a country with a rich cultural heritage, stunning landscapes, and a significant influence on art, literature, and cuisine worldwide.'"
      ]
     },
     "execution_count": 12,
     "metadata": {},
     "output_type": "execute_result"
    }
   ],
   "source": [
    "chat.predict(\"What do you about France\")"
   ]
  },
  {
   "cell_type": "code",
   "execution_count": 17,
   "metadata": {},
   "outputs": [
    {
     "name": "stdout",
     "output_type": "stream",
     "text": [
      "\n",
      "    Human : What do you know about France?\n",
      "    AI : ,\n",
      "            Here is what I know:,\n",
      "            Capital: Paris,\n",
      "            Language: French,\n",
      "            Food: Wine and Cheese,\n",
      "            Currency: Euro,\n",
      "            \n",
      "\n",
      "\n",
      "\n",
      "    Human : What do you know about Italy?\n",
      "    AI : ,\n",
      "            I know this:,\n",
      "            Capital: Rome,\n",
      "            Language: Italian,\n",
      "            Food: Pizza and Pasta,\n",
      "            Currency: Euro,\n",
      "            \n",
      "\n",
      "\n",
      "\n",
      "    Human : What do you know about Greece?\n",
      "    AI : ,\n",
      "            I know this:,\n",
      "            Capital: Athens,\n",
      "            Language: Greek,\n",
      "            Food: Souvlaki and Feta Cheese,\n",
      "            Currency: Euro,\n",
      "            \n",
      "\n",
      "\n",
      "Human : What do you know aboud Germary?\n"
     ]
    }
   ],
   "source": [
    "example_template = \"\"\"\n",
    "    Human : {question}\n",
    "    AI : {answer}\n",
    "\"\"\"\n",
    "example_propmt = PromptTemplate.from_template(example_template)\n",
    "\n",
    "prompt = FewShotPromptTemplate(\n",
    "    example_prompt=example_propmt,\n",
    "    examples=examples,\n",
    "    suffix=\"Human : What do you know aboud {country}?\",\n",
    "    input_variables=[\"country\"]\n",
    ")\n",
    "message = prompt.format(country=\"Germary\")\n",
    "\n",
    "for item in message.split(\"\\n\"):\n",
    "    print(item)\n"
   ]
  },
  {
   "cell_type": "code",
   "execution_count": 19,
   "metadata": {},
   "outputs": [
    {
     "name": "stdout",
     "output_type": "stream",
     "text": [
      "AI : \n",
      "I know this:\n",
      "Capital: Seoul,\n",
      "Language: Korean,\n",
      "Food: Kimchi and Bibimbap,\n",
      "Currency: South Korean won."
     ]
    },
    {
     "data": {
      "text/plain": [
       "AIMessageChunk(content='AI : \\nI know this:\\nCapital: Seoul,\\nLanguage: Korean,\\nFood: Kimchi and Bibimbap,\\nCurrency: South Korean won.')"
      ]
     },
     "execution_count": 19,
     "metadata": {},
     "output_type": "execute_result"
    }
   ],
   "source": [
    "chain = prompt | chat\n",
    "\n",
    "chain.invoke({\n",
    "    # \"country\" : \"Germany\"\n",
    "    \"country\" : \"Korea\"\n",
    "})"
   ]
  },
  {
   "cell_type": "markdown",
   "metadata": {},
   "source": [
    "### FewShotChatMessagePromptTemplate"
   ]
  },
  {
   "cell_type": "code",
   "execution_count": 4,
   "metadata": {},
   "outputs": [],
   "source": [
    "from langchain.chat_models import ChatOpenAI\n",
    "from langchain.prompts import ChatPromptTemplate\n",
    "from langchain.prompts.few_shot import FewShotChatMessagePromptTemplate\n",
    "from langchain.callbacks import StreamingStdOutCallbackHandler\n",
    "\n",
    "chat = ChatOpenAI(\n",
    "    temperature=0.1, \n",
    "    streaming=True, \n",
    "    callbacks=[StreamingStdOutCallbackHandler()]\n",
    ")\n",
    "\n",
    "examples = [\n",
    "    {\n",
    "        \"country\": \"France\",\n",
    "        \"answer\": \"\"\"\n",
    "        Here is what I know:\n",
    "        Capital: Paris\n",
    "        Language: French\n",
    "        Food: Wine and Cheese\n",
    "        Currency: Euro\n",
    "        \"\"\",\n",
    "    },\n",
    "    {\n",
    "        \"country\": \"Italy\",\n",
    "        \"answer\": \"\"\"\n",
    "        I know this:\n",
    "        Capital: Rome\n",
    "        Language: Italian\n",
    "        Food: Pizza and Pasta\n",
    "        Currency: Euro\n",
    "        \"\"\",\n",
    "    },\n",
    "    {\n",
    "        \"country\": \"Greece\",\n",
    "        \"answer\": \"\"\"\n",
    "        I know this:\n",
    "        Capital: Athens\n",
    "        Language: Greek\n",
    "        Food: Souvlaki and Feta Cheese\n",
    "        Currency: Euro\n",
    "        \"\"\",\n",
    "    },\n",
    "]\n"
   ]
  },
  {
   "cell_type": "code",
   "execution_count": 5,
   "metadata": {},
   "outputs": [],
   "source": [
    "example_prompt = ChatPromptTemplate.from_messages(\n",
    "    [\n",
    "        (\"human\", \"What do you know about {country}?\"),\n",
    "        (\"ai\", \"{answer}\"),\n",
    "    ]\n",
    ")\n"
   ]
  },
  {
   "cell_type": "code",
   "execution_count": 6,
   "metadata": {},
   "outputs": [
    {
     "name": "stdout",
     "output_type": "stream",
     "text": [
      "\n",
      "        I know this:\n",
      "        Capital: Bangkok\n",
      "        Language: Thai\n",
      "        Food: Pad Thai and Tom Yum Soup\n",
      "        Currency: Thai Baht\n",
      "        "
     ]
    },
    {
     "data": {
      "text/plain": [
       "AIMessageChunk(content='\\n        I know this:\\n        Capital: Bangkok\\n        Language: Thai\\n        Food: Pad Thai and Tom Yum Soup\\n        Currency: Thai Baht\\n        ')"
      ]
     },
     "execution_count": 6,
     "metadata": {},
     "output_type": "execute_result"
    }
   ],
   "source": [
    "example_prompt = FewShotChatMessagePromptTemplate(\n",
    "    example_prompt=example_prompt,\n",
    "    examples=examples,\n",
    ")\n",
    "\n",
    "final_prompt = ChatPromptTemplate.from_messages(\n",
    "    [\n",
    "        # 전문가라고만 하면 길게 답변을 하기에  you give short answers.\n",
    "        (\"system\", \"You are a geography expert, you give short answers.\"),\n",
    "        example_prompt,\n",
    "        (\"human\", \"What do you know about {country}?\"),\n",
    "    ]\n",
    ")\n",
    "\n",
    "chain = final_prompt | chat\n",
    "\n",
    "chain.invoke({\"country\": \"Thailand\"})"
   ]
  },
  {
   "cell_type": "markdown",
   "metadata": {},
   "source": [
    "## Example Selector"
   ]
  },
  {
   "cell_type": "code",
   "execution_count": 7,
   "metadata": {},
   "outputs": [
    {
     "name": "stdout",
     "output_type": "stream",
     "text": [
      "What is the capital of France\n"
     ]
    }
   ],
   "source": [
    "\n",
    "from langchain.chat_models import ChatOpenAI\n",
    "from langchain.prompts import ChatPromptTemplate, PromptTemplate\n",
    "from langchain.prompts.few_shot import FewShotPromptTemplate\n",
    "from langchain.callbacks import StreamingStdOutCallbackHandler\n",
    "from langchain.prompts.example_selector import LengthBasedExampleSelector\n",
    "\n",
    "chat = ChatOpenAI(\n",
    "    temperature=0.1, \n",
    "    streaming=True, \n",
    "    callbacks=[StreamingStdOutCallbackHandler()]\n",
    ")\n",
    "\n",
    "\n",
    "t = PromptTemplate.from_template(\"What is the capital of {country}\")\n",
    "prompt = t.format(country= \"France\")\n",
    "print(prompt)"
   ]
  },
  {
   "cell_type": "code",
   "execution_count": 11,
   "metadata": {},
   "outputs": [
    {
     "ename": "KeyError",
     "evalue": "'input_variables'",
     "output_type": "error",
     "traceback": [
      "\u001b[0;31m---------------------------------------------------------------------------\u001b[0m",
      "\u001b[0;31mKeyError\u001b[0m                                  Traceback (most recent call last)",
      "\u001b[1;32m/Users/hwang-igeon/DEV/full-gpt/notebook/03.ipynb 셀 16\u001b[0m line \u001b[0;36m4\n\u001b[1;32m     <a href='vscode-notebook-cell:/Users/hwang-igeon/DEV/full-gpt/notebook/03.ipynb#X24sZmlsZQ%3D%3D?line=33'>34</a>\u001b[0m example_prompt \u001b[39m=\u001b[39m PromptTemplate\u001b[39m.\u001b[39mfrom_template(\u001b[39m\"\u001b[39m\u001b[39mHuman:\u001b[39m\u001b[39m{country}\u001b[39;00m\u001b[39m\\n\u001b[39;00m\u001b[39mAI:\u001b[39m\u001b[39m{answer}\u001b[39;00m\u001b[39m\"\u001b[39m)\n\u001b[1;32m     <a href='vscode-notebook-cell:/Users/hwang-igeon/DEV/full-gpt/notebook/03.ipynb#X24sZmlsZQ%3D%3D?line=35'>36</a>\u001b[0m example_selector \u001b[39m=\u001b[39m LengthBasedExampleSelector(\n\u001b[1;32m     <a href='vscode-notebook-cell:/Users/hwang-igeon/DEV/full-gpt/notebook/03.ipynb#X24sZmlsZQ%3D%3D?line=36'>37</a>\u001b[0m     examples\u001b[39m=\u001b[39mexamples,\n\u001b[1;32m     <a href='vscode-notebook-cell:/Users/hwang-igeon/DEV/full-gpt/notebook/03.ipynb#X24sZmlsZQ%3D%3D?line=37'>38</a>\u001b[0m     example_prompt\u001b[39m=\u001b[39mexample_prompt,\n\u001b[1;32m     <a href='vscode-notebook-cell:/Users/hwang-igeon/DEV/full-gpt/notebook/03.ipynb#X24sZmlsZQ%3D%3D?line=38'>39</a>\u001b[0m     max_length\u001b[39m=\u001b[39m\u001b[39m10\u001b[39m,\n\u001b[1;32m     <a href='vscode-notebook-cell:/Users/hwang-igeon/DEV/full-gpt/notebook/03.ipynb#X24sZmlsZQ%3D%3D?line=39'>40</a>\u001b[0m )\n\u001b[0;32m---> <a href='vscode-notebook-cell:/Users/hwang-igeon/DEV/full-gpt/notebook/03.ipynb#X24sZmlsZQ%3D%3D?line=41'>42</a>\u001b[0m prompt \u001b[39m=\u001b[39m FewShotPromptTemplate(\n\u001b[1;32m     <a href='vscode-notebook-cell:/Users/hwang-igeon/DEV/full-gpt/notebook/03.ipynb#X24sZmlsZQ%3D%3D?line=42'>43</a>\u001b[0m     example_prompt\u001b[39m=\u001b[39;49mexample_prompt,\n\u001b[1;32m     <a href='vscode-notebook-cell:/Users/hwang-igeon/DEV/full-gpt/notebook/03.ipynb#X24sZmlsZQ%3D%3D?line=43'>44</a>\u001b[0m     example_selector\u001b[39m=\u001b[39;49mexample_selector,\n\u001b[1;32m     <a href='vscode-notebook-cell:/Users/hwang-igeon/DEV/full-gpt/notebook/03.ipynb#X24sZmlsZQ%3D%3D?line=44'>45</a>\u001b[0m     suffix\u001b[39m=\u001b[39;49m\u001b[39m\"\u001b[39;49m\u001b[39mHuman: What do you know about \u001b[39;49m\u001b[39m{country}\u001b[39;49;00m\u001b[39m?\u001b[39;49m\u001b[39m\"\u001b[39;49m,\n\u001b[1;32m     <a href='vscode-notebook-cell:/Users/hwang-igeon/DEV/full-gpt/notebook/03.ipynb#X24sZmlsZQ%3D%3D?line=45'>46</a>\u001b[0m     input_types\u001b[39m=\u001b[39;49m[\u001b[39m\"\u001b[39;49m\u001b[39mcountry\u001b[39;49m\u001b[39m\"\u001b[39;49m]\n\u001b[1;32m     <a href='vscode-notebook-cell:/Users/hwang-igeon/DEV/full-gpt/notebook/03.ipynb#X24sZmlsZQ%3D%3D?line=46'>47</a>\u001b[0m )\n\u001b[1;32m     <a href='vscode-notebook-cell:/Users/hwang-igeon/DEV/full-gpt/notebook/03.ipynb#X24sZmlsZQ%3D%3D?line=48'>49</a>\u001b[0m \u001b[39mprint\u001b[39m(prompt)\n",
      "File \u001b[0;32m/opt/homebrew/anaconda3/envs/full-gpt/lib/python3.10/site-packages/langchain/load/serializable.py:97\u001b[0m, in \u001b[0;36mSerializable.__init__\u001b[0;34m(self, **kwargs)\u001b[0m\n\u001b[1;32m     96\u001b[0m \u001b[39mdef\u001b[39;00m \u001b[39m__init__\u001b[39m(\u001b[39mself\u001b[39m, \u001b[39m*\u001b[39m\u001b[39m*\u001b[39mkwargs: Any) \u001b[39m-\u001b[39m\u001b[39m>\u001b[39m \u001b[39mNone\u001b[39;00m:\n\u001b[0;32m---> 97\u001b[0m     \u001b[39msuper\u001b[39;49m()\u001b[39m.\u001b[39;49m\u001b[39m__init__\u001b[39;49m(\u001b[39m*\u001b[39;49m\u001b[39m*\u001b[39;49mkwargs)\n\u001b[1;32m     98\u001b[0m     \u001b[39mself\u001b[39m\u001b[39m.\u001b[39m_lc_kwargs \u001b[39m=\u001b[39m kwargs\n",
      "File \u001b[0;32m/opt/homebrew/anaconda3/envs/full-gpt/lib/python3.10/site-packages/pydantic/main.py:339\u001b[0m, in \u001b[0;36mpydantic.main.BaseModel.__init__\u001b[0;34m()\u001b[0m\n",
      "File \u001b[0;32m/opt/homebrew/anaconda3/envs/full-gpt/lib/python3.10/site-packages/pydantic/main.py:1102\u001b[0m, in \u001b[0;36mpydantic.main.validate_model\u001b[0;34m()\u001b[0m\n",
      "File \u001b[0;32m/opt/homebrew/anaconda3/envs/full-gpt/lib/python3.10/site-packages/langchain/schema/prompt_template.py:76\u001b[0m, in \u001b[0;36mBasePromptTemplate.validate_variable_names\u001b[0;34m(cls, values)\u001b[0m\n\u001b[1;32m     73\u001b[0m \u001b[39m@root_validator\u001b[39m()\n\u001b[1;32m     74\u001b[0m \u001b[39mdef\u001b[39;00m \u001b[39mvalidate_variable_names\u001b[39m(\u001b[39mcls\u001b[39m, values: Dict) \u001b[39m-\u001b[39m\u001b[39m>\u001b[39m Dict:\n\u001b[1;32m     75\u001b[0m \u001b[39m    \u001b[39m\u001b[39m\"\"\"Validate variable names do not include restricted names.\"\"\"\u001b[39;00m\n\u001b[0;32m---> 76\u001b[0m     \u001b[39mif\u001b[39;00m \u001b[39m\"\u001b[39m\u001b[39mstop\u001b[39m\u001b[39m\"\u001b[39m \u001b[39min\u001b[39;00m values[\u001b[39m\"\u001b[39;49m\u001b[39minput_variables\u001b[39;49m\u001b[39m\"\u001b[39;49m]:\n\u001b[1;32m     77\u001b[0m         \u001b[39mraise\u001b[39;00m \u001b[39mValueError\u001b[39;00m(\n\u001b[1;32m     78\u001b[0m             \u001b[39m\"\u001b[39m\u001b[39mCannot have an input variable named \u001b[39m\u001b[39m'\u001b[39m\u001b[39mstop\u001b[39m\u001b[39m'\u001b[39m\u001b[39m, as it is used internally,\u001b[39m\u001b[39m\"\u001b[39m\n\u001b[1;32m     79\u001b[0m             \u001b[39m\"\u001b[39m\u001b[39m please rename.\u001b[39m\u001b[39m\"\u001b[39m\n\u001b[1;32m     80\u001b[0m         )\n\u001b[1;32m     81\u001b[0m     \u001b[39mif\u001b[39;00m \u001b[39m\"\u001b[39m\u001b[39mstop\u001b[39m\u001b[39m\"\u001b[39m \u001b[39min\u001b[39;00m values[\u001b[39m\"\u001b[39m\u001b[39mpartial_variables\u001b[39m\u001b[39m\"\u001b[39m]:\n",
      "\u001b[0;31mKeyError\u001b[0m: 'input_variables'"
     ]
    }
   ],
   "source": [
    "examples = [\n",
    "    {\n",
    "        \"question\": \"What do you know about France?\",\n",
    "        \"answer\": \"\"\"\n",
    "        Here is what I know:\n",
    "        Capital: Paris\n",
    "        Language: French\n",
    "        Food: Wine and Cheese\n",
    "        Currency: Euro\n",
    "        \"\"\",\n",
    "    },\n",
    "    {\n",
    "        \"question\": \"What do you know about Italy?\",\n",
    "        \"answer\": \"\"\"\n",
    "        I know this:\n",
    "        Capital: Rome\n",
    "        Language: Italian\n",
    "        Food: Pizza and Pasta\n",
    "        Currency: Euro\n",
    "        \"\"\",\n",
    "    },\n",
    "    {\n",
    "        \"question\": \"What do you know about Greece?\",\n",
    "        \"answer\": \"\"\"\n",
    "        I know this:\n",
    "        Capital: Athens\n",
    "        Language: Greek\n",
    "        Food: Souvlaki and Feta Cheese\n",
    "        Currency: Euro\n",
    "        \"\"\",\n",
    "    },\n",
    "]\n",
    "example_prompt = PromptTemplate.from_template(\"Human:{question}\\nAI:{answer}\")\n",
    "\n",
    "example_selector = LengthBasedExampleSelector(\n",
    "    examples=examples,\n",
    "    example_prompt=example_prompt,\n",
    "    max_length=10,\n",
    ")\n",
    "\n",
    "prompt = FewShotPromptTemplate(\n",
    "    example_prompt=example_prompt,\n",
    "    example_selector=example_selector,\n",
    "    suffix=\"Human: What do you know about {country}?\",\n",
    "    input_types=[\"country\"]\n",
    ")\n",
    "\n",
    "print(prompt)"
   ]
  },
  {
   "cell_type": "code",
   "execution_count": null,
   "metadata": {},
   "outputs": [],
   "source": []
  }
 ],
 "metadata": {
  "kernelspec": {
   "display_name": "full-gpt",
   "language": "python",
   "name": "python3"
  },
  "language_info": {
   "codemirror_mode": {
    "name": "ipython",
    "version": 3
   },
   "file_extension": ".py",
   "mimetype": "text/x-python",
   "name": "python",
   "nbconvert_exporter": "python",
   "pygments_lexer": "ipython3",
   "version": "3.10.13"
  }
 },
 "nbformat": 4,
 "nbformat_minor": 2
}
